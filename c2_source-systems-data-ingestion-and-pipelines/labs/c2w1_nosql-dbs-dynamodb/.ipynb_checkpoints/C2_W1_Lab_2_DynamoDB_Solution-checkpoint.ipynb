{
 "cells": [
  {
   "cell_type": "markdown",
   "metadata": {},
   "source": [
    "# Interacting With Amazon DynamoDB NoSQL Database\n",
    "\n",
    "In this lab, you will work with DynamoDB as a key-value database and apply some Create, Read, Update and Delete (CRUD) operations on this NoSQL database.\n",
    "\n",
    "**Note**: \n",
    "- The lab contains links to external resources. You can always skim through these resources during the lab session, but you're not expected to open and read each link during the lab session. If you'd like to deepen your understanding, you can check the linked resources after you're done with the lab.\n",
    "- The lab contains 4 optional parts that you can choose to skip."
   ]
  },
  {
   "cell_type": "markdown",
   "metadata": {},
   "source": [
    "# Table of Contents\n",
    "- [ 1 - Import Packages](#1)\n",
    "- [ 2 - Explore the Data](#2)\n",
    "- [ 3 - Create the DynamoDB Tables](#3)\n",
    "  - [ Exercise 1](#ex01)\n",
    "- [ 4 - Load Data into the Tables](#4)\n",
    "  - [ 4.1 - Load Data Item by Item](#4.1)\n",
    "    - [ Exercise 2](#ex02)\n",
    "  - [ 4.2 - Load Data as a Batch of Items](#4.2)\n",
    "    - [ Exercise 3](#ex03)\n",
    "- [ 5 - Read Data from the Tables](#5)\n",
    "  - [ 5.1 - Scan the Full Table](#5.1)\n",
    "    - [ Exercise 4](#ex04)\n",
    "  - [ 5.2 - Read a Single Item](#5.2)\n",
    "    - [ Exercise 5](#ex05)\n",
    "  - [ 5.3 - Query Items that Share the Same Partition Key](#5.3)\n",
    "    - [ Exercise 6](#ex06)\n",
    "    - [ Exercise 7](#ex07)\n",
    "  - [ 5.4 - Filtering the Table Scans](#5.4)\n",
    "- [ 6 - Insert and Update Data](#6)\n",
    "  - [ 6.1 - Insert Data](#6.1)\n",
    "  - [ 6.2 - Update Data](#6.2)\n",
    "    - [ Exercise 8](#ex08)\n",
    "    - [ Exercise 9](#ex09)\n",
    "- [ 7 - Delete Data](#7)\n",
    "  - [ Exercise 10](#ex10)\n",
    "- [ 8 - Transactions - Optional](#8)\n",
    "  - [ Exercise 11](#ex11)\n",
    "- [ 9 - Cleanup](#9)"
   ]
  },
  {
   "cell_type": "markdown",
   "metadata": {},
   "source": [
    "<a name='1'></a>\n",
    "## 1 - Import Packages\n",
    "\n",
    "First, let's import some packages. Among these packages, you can find `boto3`, which is the AWS Software Development Kit (SDK) for Python that allows you to interact with various AWS services using Python code. With `boto3`, you can programmatically access AWS resources such as EC2 instances, S3 buckets, Amazon DynamoDB tables, and more. It provides you with a simple and intuitive interface for managing and integrating AWS services into your Python applications efficiently.\n",
    "\n",
    "For more information on each of the methods that you will use throughout this lab, you can check out [boto3 documentation](https://boto3.amazonaws.com/v1/documentation/api/latest/reference/services/dynamodb.html)."
   ]
  },
  {
   "cell_type": "code",
   "execution_count": null,
   "metadata": {},
   "outputs": [],
   "source": [
    "import decimal\n",
    "import json\n",
    "import logging\n",
    "from typing import Any, Dict, List\n",
    "\n",
    "import boto3\n",
    "from botocore.exceptions import ClientError"
   ]
  },
  {
   "cell_type": "markdown",
   "metadata": {},
   "source": [
    "Let's define the following variable that you will use throughout this lab."
   ]
  },
  {
   "cell_type": "code",
   "execution_count": null,
   "metadata": {},
   "outputs": [],
   "source": [
    "COURSE_PREFIX = 'de-c2w1-dynamodb'"
   ]
  },
  {
   "cell_type": "markdown",
   "metadata": {},
   "source": [
    "<a name='2'></a>\n",
    "## 2 - Explore the Data\n",
    "\n",
    "The dataset that you will use in this lab is the sample data from the [Amazon DynamoDB Developer Guide](https://docs.aws.amazon.com/amazondynamodb/latest/developerguide/AppendixSampleTables.html#AppendixSampleData) ([dataset zip file](https://docs.aws.amazon.com/amazondynamodb/latest/developerguide/samples/sampledata.zip)). The sample data consists of 4 JSON files that you can find in the folder `data/aws_sample_data`:\n",
    "- `ProductCatalog`: Catalog of products that contains information about some products such as the product ID and its characteristics.\n",
    "- `Forum`: Information about some AWS forums where users post questions or start a thread (i.e., conversation) about AWS services. The information includes the name of the forum and the total number of threads, messages, and views in each forum.\n",
    "- `Thread`: Information about each forum thread (i.e., conversation), such as the thread subject, the thread message, the total number of views and replies to the given thread, and who lastly posted on the thread.\n",
    "- `Reply`: Information about the replies of each thread, such as the time of the reply, the reply message, and the user who posted the reply.\n",
    "\n",
    "In this lab, you will create 4 DynamoDB tables (`de-c2w1-dynamodb-ProductCatalog`, `de-c2w1-dynamodb-Forum`, `de-c2w1-dynamodb-Thread`, `de-c2w1-dynamodb-Reply`) and load in each the data from the corresponding JSON file. \n",
    "\n",
    "**Note**: if you check the content of each JSON file, you will notice the use of letters such as N, S, B. These are known as [*Data type descriptors*](https://docs.aws.amazon.com/amazondynamodb/latest/developerguide/HowItWorks.NamingRulesDataTypes.html#HowItWorks.DataTypeDescriptors) that tell DynamoDB how to interpret the type of each field. We will talk more about it later in this lab."
   ]
  },
  {
   "cell_type": "markdown",
   "metadata": {},
   "source": [
    "<a name='3'></a>\n",
    "## 3 - Create the DynamoDB Tables\n",
    "\n",
    "**What is a DynamoDB table?**\n",
    "\n",
    "DynamoDB database is a key-value store that stores a set of key-value pairs. Let's say you have a set of key-value items where each item represents a product. Each item is characterized by a unique key (product ID) and has a set of corresponding attributes (the value of the key). DynamoDB stores this key-value data in a table where each row contains the attributes of one product and it uses the key to uniquely identify each row. This table is different from relational tables because it's schemaless, which means that neither the attributes nor their data types need to be defined beforehand. Each item can have its own distinct attributes. For example in the product table that you will create in this section, you will have one item that represents a book (Title, Authors, ISBN, Price) and another item that represents a bicycle (BicycleType, Brand, Price, Color) both stored in the same DynamoDB table."
   ]
  },
  {
   "cell_type": "markdown",
   "metadata": {},
   "source": [
    "**What is DynamoDB table's primary key?**\n",
    "\n",
    "When you create a dynamoDB table, you need to specify the primary key which is the key that uniquely identifies each item. The primary key could be a simple key - partition key - or a composite primary key - partition key and sort key.\n",
    "- partition key (simple key):  For example, in the product tables, you will use the product ID as the primary key since it uniquely identifies each product. For dynamoDB, this simple primary key is called a partition key because dynamoDB uses it as an input to a hash function. The output of the hash function determines the partition (internal physical storage) in which the item will be stored.\n",
    "- partition key and sort key (composite key): In this composite key, two items can have the same partition key but they should have different sort keys so that the composite key can still uniquely identify each item. DynamoDB will use the partition key to determine in which partition the item will be stored. All items with the same partition key value are stored together, in sorted order by sort key value.\n",
    "\n",
    "You can learn more about the core components of DynamoDB [here](https://docs.aws.amazon.com/amazondynamodb/latest/developerguide/HowItWorks.CoreComponents.html)."
   ]
  },
  {
   "cell_type": "markdown",
   "metadata": {},
   "source": [
    "**How will you create the tables?**\n",
    "\n",
    "You will use the [DyanmoDB create_table()](https://boto3.amazonaws.com/v1/documentation/api/latest/reference/services/dynamodb/client/create_table.html) method. This method expects 3 required parameters:\n",
    "* `TableName`: the name of the table.\n",
    "* `KeySchema`: an array of the attributes that make up the primary key for a table. For each element in this array, you need to specify: `AttributeName`: the name of the attribute, and `KeyType`: the role that the key attribute will assume (`HASH` if it is a partition key and `RANGE` if it is a sort key). For example,\n",
    "  ```\n",
    "  'KeySchema'= [\n",
    "      {'AttributeName': 'ForumName', 'KeyType': 'HASH'}, \n",
    "      {'AttributeName': 'Subject', 'KeyType': 'RANGE'}\n",
    "  ]\n",
    "  ```\n",
    "* `AttributeDefinitions`: an array that describes the attributes that make up the primary key. For each element in this array, you need to specify `AttributeName` and `AttributeType`: the data type for the attribute (S: String, N: Number, B: Binary,...). For example, \n",
    "  ```\n",
    "  'AttributeDefinitions': [\n",
    "      {'AttributeName': 'ForumName', 'AttributeType': 'S'},\n",
    "      {'AttributeName': 'Subject', 'AttributeType': 'S'}\n",
    "  ]\n",
    "  ```\n",
    "There is an additional parameter that you can specify if you don't wish to pay for DynamoDB based on demand and you want to choose the provisioned mode:\n",
    "* `ProvisionedThroughput`: a dictionary that specifies the read/write capacity (or throughput) for a specified table. It consists of two items:\n",
    "  - `ReadCapacityUnits`: the maximum number of strongly consistent reads consumed per second;\n",
    "  - `WriteCapacityUnits`: the maximum number of writes consumed per second. \n",
    "\n",
    "In this lab, you will create 4 tables, and for each table, you need to specify the parameters that we just listed here. To make it easy for you to access the properties of each table throughout this notebook, we created the following dictionaries that specify the properties for each table."
   ]
  },
  {
   "cell_type": "code",
   "execution_count": null,
   "metadata": {},
   "outputs": [],
   "source": [
    "capacity_units = {'ReadCapacityUnits': 10, 'WriteCapacityUnits': 5}\n",
    "\n",
    "product_catalog_table = {'table_name': f'{COURSE_PREFIX}-ProductCatalog',\n",
    "                         'kwargs': {\n",
    "                             'KeySchema': [{'AttributeName': 'Id', 'KeyType': 'HASH'}],\n",
    "                             'AttributeDefinitions': [{'AttributeName': 'Id', 'AttributeType': 'N'}],\n",
    "                             'ProvisionedThroughput': capacity_units\n",
    "                         }\n",
    "                        }\n",
    "\n",
    "forum_table = {'table_name': f'{COURSE_PREFIX}-Forum',\n",
    "                'kwargs': {\n",
    "                    'KeySchema': [{'AttributeName': 'Name', 'KeyType': 'HASH'}],\n",
    "                    'AttributeDefinitions': [{'AttributeName': 'Name', 'AttributeType': 'S'}],\n",
    "                    'ProvisionedThroughput': capacity_units\n",
    "                }\n",
    "              }\n",
    "\n",
    "thread_table = {'table_name': f'{COURSE_PREFIX}-Thread',\n",
    "                'kwargs': {\n",
    "                    'KeySchema': [{'AttributeName': 'ForumName', 'KeyType': 'HASH'}, \n",
    "                                  {'AttributeName': 'Subject', 'KeyType': 'RANGE'}],\n",
    "                    'AttributeDefinitions': [{'AttributeName': 'ForumName', 'AttributeType': 'S'},\n",
    "                                             {'AttributeName': 'Subject', 'AttributeType': 'S'}],\n",
    "                    'ProvisionedThroughput': capacity_units\n",
    "                }\n",
    "               }\n",
    "\n",
    "reply_table = {'table_name': f'{COURSE_PREFIX}-Reply',\n",
    "                'kwargs': {\n",
    "                    'KeySchema': [{'AttributeName': 'Id', 'KeyType': 'HASH'}, \n",
    "                                  {'AttributeName': 'ReplyDateTime', 'KeyType': 'RANGE'}],\n",
    "                    'AttributeDefinitions': [{'AttributeName': 'Id', 'AttributeType': 'S'},\n",
    "                                             {'AttributeName': 'ReplyDateTime', 'AttributeType': 'S'}],\n",
    "                    'ProvisionedThroughput': capacity_units\n",
    "                }\n",
    "              }"
   ]
  },
  {
   "cell_type": "markdown",
   "metadata": {},
   "source": [
    "Note that the thread and reply tables will both use a composite primary key, and that the product and forum tables will use a simple primary key."
   ]
  },
  {
   "cell_type": "markdown",
   "metadata": {},
   "source": [
    "**Note:** To interact with AmazonDynamoDB throughout this notebook, you are going to create a `boto3` client object. This object allows you to make API requests directly to AWS services to create, delete, or modify resources. When you create a `boto3` client object, you will need to specify the AWS services you want to interact with, and then, with the created client object, you can call methods to perform various operations on that resource."
   ]
  },
  {
   "cell_type": "markdown",
   "metadata": {},
   "source": [
    "<a name='ex01'></a>\n",
    "### Exercise 1\n",
    "\n",
    "To create the 4 tables, you will use the function `create_table_db()` provided in the following cell. This function calls the `DynamoDB create_table()` method, and takes in two arguments:\n",
    "* `table_name`: the name of the table;\n",
    "* `kwargs`: A dictionary that specifies the additional arguments for `DynamoDB create_table()` such as `KeySchema`, `AttributeDefinitions`and `ProvisionedThroughput` as shown in the previous cell. `**kwargs` means that the elements in the dictionary are unpacked into a sequence of arguments.\n",
    "\n",
    "In this first exercise, you will need to replace `None` with the appropriate values."
   ]
  },
  {
   "cell_type": "code",
   "execution_count": null,
   "metadata": {},
   "outputs": [],
   "source": [
    "def create_table_db(table_name: str, **kwargs):\n",
    "    client = boto3.client(\"dynamodb\")\n",
    "    ### START CODE HERE ### (~ 1 line of code)\n",
    "    response = client.create_table(TableName=table_name, **kwargs) # @REPLACE EQUALS client.create_table(TableName=None, None)\n",
    "    ### END CODE HERE ###\n",
    "\n",
    "    waiter = client.get_waiter(\"table_exists\")\n",
    "    waiter.wait(TableName=table_name)\n",
    "\n",
    "    return response"
   ]
  },
  {
   "cell_type": "markdown",
   "metadata": {},
   "source": [
    "Now that the `create_table_db()` function is ready, you can test it by creating the `ProductCatalog` table. The execution should take less than a minute."
   ]
  },
  {
   "cell_type": "code",
   "execution_count": null,
   "metadata": {},
   "outputs": [],
   "source": [
    "response = create_table_db(table_name=product_catalog_table['table_name'], **product_catalog_table[\"kwargs\"]) \n",
    "print(response)"
   ]
  },
  {
   "cell_type": "markdown",
   "metadata": {},
   "source": [
    "##### __Expected Output__ \n",
    "```\n",
    "{'TableDescription': {'AttributeDefinitions': [{'AttributeName': 'Id', 'AttributeType': 'N'}], 'TableName': 'de-c2w1-dynamodb-ProductCatalog', 'KeySchema': [{'AttributeName': 'Id', 'KeyType': 'HASH'}], 'TableStatus': 'CREATING', 'CreationDateTime': datetime.datetime(2024, 2, 14, 6, 42, 38, 872000, tzinfo=tzlocal()), 'ProvisionedThroughput': {'NumberOfDecreasesToday': 0, 'ReadCapacityUnits': 10, 'WriteCapacityUnits': 5}, 'TableSizeBytes': 0, 'ItemCount': 0, 'TableArn': 'arn:aws:dynamodb:us-east-1:631295702609:table/de-c2w1-dynamodb-ProductCatalog', 'TableId': '639df373-f498-4a2d-9851-6c6f6c26d908', 'DeletionProtectionEnabled': False}, 'ResponseMetadata': {'RequestId': 'OJ9GC0U10JH5ILK020C4PM094VVV4KQNSO5AEMVJF66Q9ASUAAJG', 'HTTPStatusCode': 200, 'HTTPHeaders': {'server': 'Server', 'date': 'Wed, 14 Feb 2024 06:42:38 GMT', 'content-type': 'application/x-amz-json-1.0', 'content-length': '557', 'connection': 'keep-alive', 'x-amzn-requestid': 'OJ9GC0U10JH5ILK020C4PM094VVV4KQNSO5AEMVJF66Q9ASUAAJG', 'x-amz-crc32': '1500356689'}, 'RetryAttempts': 0}}\n",
    "```"
   ]
  },
  {
   "cell_type": "markdown",
   "metadata": {},
   "source": [
    "Execute the following command to create the other three tables. The creation of all tables can take around 2 minutes."
   ]
  },
  {
   "cell_type": "code",
   "execution_count": null,
   "metadata": {},
   "outputs": [],
   "source": [
    "for dynamodb_tab in [forum_table, thread_table, reply_table]:\n",
    "    response = create_table_db(dynamodb_tab[\"table_name\"], **dynamodb_tab[\"kwargs\"])\n",
    "    print(response)"
   ]
  },
  {
   "cell_type": "markdown",
   "metadata": {},
   "source": [
    "Go to the AWS Console, search for **DynamoDB**, click on Tables on the left, and check that the tables have been created."
   ]
  },
  {
   "cell_type": "markdown",
   "metadata": {},
   "source": [
    "<a name='4'></a>\n",
    "## 4 - Load Data into the Tables\n",
    "\n",
    "You will now load data into each table from the following JSON files:\n",
    "* `Forum.json`\n",
    "* `ProductCatalog.json`\n",
    "* `Reply.json`\n",
    "* `Thread.json`\n",
    "\n",
    "You can load data item by item or as a batch of items. Let's explore each option."
   ]
  },
  {
   "cell_type": "markdown",
   "metadata": {},
   "source": [
    "<a name='4.1'></a>\n",
    "### 4.1 - Load Data Item by Item\n",
    "\n",
    "To load data item by item, you will use the method: [DynamoDB put_item()](https://boto3.amazonaws.com/v1/documentation/api/latest/reference/services/dynamodb/client/put_item.html). This method expects two required arguments (1) the table name and (2) the item you need to add. The item should be a dictionary that contains the attributes of the item (and most importantly the value of its primary key), for example, here's the format of what the item should look like (an item in the reply table):\n",
    "```\n",
    "item = {\n",
    "        \"Id\": {\n",
    "            \"S\": \"Amazon DynamoDB#DynamoDB Thread 1\"\n",
    "            },\n",
    "        \"ReplyDateTime\": {\n",
    "             \"S\": \"2015-09-15T19:58:22.947Z\"\n",
    "             },\n",
    "        \"Message\": {\n",
    "            \"S\": \"DynamoDB Thread 1 Reply 1 text\"\n",
    "        },\n",
    "        \"PostedBy\": {\n",
    "            \"S\": \"User A\"\n",
    "        }\n",
    "}\n",
    "```\n",
    "This JSON structure that looks as follows:\n",
    "\n",
    "```JSON\n",
    "{\n",
    "    \"<AttributeName>\": {\n",
    "        \"<DataType>\": \"<Value>\"\n",
    "    },\n",
    "    \"<ListAttribute>\": {\n",
    "        \"<DataType>\": [\n",
    "            {\n",
    "                \"<DataType>\": \"<Value1>\"\n",
    "            },\n",
    "            {\n",
    "                \"<DataType>\": \"<Value2>\"\n",
    "            }]\n",
    "    }    \n",
    "}\n",
    "```\n",
    "is called Marshal JSON. This is similar to a regular JSON file but it also includes the types of each value. The `<DataType>` placeholders specify the data type of the corresponding value; you can learn more about the Data type conventions for DynamoDB in the [documentation](https://docs.aws.amazon.com/amazondynamodb/latest/developerguide/HowItWorks.NamingRulesDataTypes.html#HowItWorks.DataTypeDescriptors). The good news is that all of the items provided in the sample JSON files are already in this expected format for `DynamoDB put_item()`. "
   ]
  },
  {
   "cell_type": "markdown",
   "metadata": {},
   "source": [
    "In this section, you are provided with two functions:\n",
    "- `read_data()`: reads a sample JSON file and returns the items as a Python dictionary;\n",
    "- `put_item_db()`: This function takes in as arguments the table name and the details of the item as a Python dictionary, calls `DynamoDB put_item()` and passes to it the table name and the item.\n",
    "\n",
    "\n",
    "In the exercise of this section, you just need to replace `None` inside the function `put_item_db()`. You don't need to modify anything inside `read_data()`. You will use the `read_data()` function to read all items from the JSON file, and then you will use the function `put_item_db()` to load each item to a given DynamoDB table.  "
   ]
  },
  {
   "cell_type": "code",
   "execution_count": null,
   "metadata": {},
   "outputs": [],
   "source": [
    "def read_data(file_path: str) -> Dict[str, Any]:\n",
    "    with open(file_path, \"r\") as json_file:\n",
    "        items = json.load(json_file)\n",
    "    return items"
   ]
  },
  {
   "cell_type": "markdown",
   "metadata": {},
   "source": [
    "<a name='ex02'></a>\n",
    "### Exercise 2\n",
    "\n",
    "In this exercise, you need to replace `None` with the appropriate values:\n",
    "1. Create a Client object (see the code in the previous exercise).\n",
    "2. Use the `client.put_item()` method of the object `client` to load the data, which expects three arguments: `TableName`, the `Item` to be loaded, and some keyword arguments."
   ]
  },
  {
   "cell_type": "code",
   "execution_count": null,
   "metadata": {},
   "outputs": [],
   "source": [
    "def put_item_db( table_name: str, item: Dict[str, Any], **kwargs):\n",
    "    ### START CODE HERE ### (~ 2 lines of code)\n",
    "    client = boto3.client(\"dynamodb\") # @REPLACE EQUALS None\n",
    "    response = client.put_item(TableName=table_name, Item=item, **kwargs) # @REPLACE EQUALS client.put_item(TableName=None, Item=None, None)\n",
    "    ### END CODE HERE ###\n",
    "\n",
    "    return response"
   ]
  },
  {
   "cell_type": "markdown",
   "metadata": {},
   "source": [
    "Now, let's load the items from `ProductCatalog` and `Thread` files one by one to the corresponding tables."
   ]
  },
  {
   "cell_type": "code",
   "execution_count": null,
   "metadata": {},
   "outputs": [],
   "source": [
    "for dynamodb_tab in [product_catalog_table, thread_table]:\n",
    "    file_name = dynamodb_tab['table_name'].split('-')[-1]    \n",
    "    items = read_data(file_path=f'./data/aws_sample_data/{file_name}.json')\n",
    "    \n",
    "    for item in items[dynamodb_tab[\"table_name\"]]:\n",
    "        put_item_db(table_name=dynamodb_tab[\"table_name\"], item=item['PutRequest']['Item'])"
   ]
  },
  {
   "cell_type": "markdown",
   "metadata": {},
   "source": [
    "<a name='4.2'></a>\n",
    "### 4.2 - Load Data as a Batch of Items\n",
    "\n",
    "Now, you will create the `batch_write_item_db()` function which calls the [DynamoDB batch_write_item()](https://boto3.amazonaws.com/v1/documentation/api/latest/reference/services/dynamodb/client/batch_write_item.html). This later method allows you to put or delete multiple items in one or more tables. \n",
    "\n",
    "Again, you will have to read the two JSON files `Reply` and `Forum` and then load the items into the tables. Let's load the data into the `Reply` and `Forum` tables."
   ]
  },
  {
   "cell_type": "markdown",
   "metadata": {},
   "source": [
    "<a name='ex03'></a>\n",
    "### Exercise 3\n",
    "\n",
    "In this exercise, you need to replace `None` with the appropriate values:\n",
    "1. Create the Client object;\n",
    "2. Call the `client.batch_write_item()` method of the `client` object. It should receive the items that need to be loaded and some keyword arguments. Assume that the input `items` is in the right format that `batch_write_item()` (the format of the items stored in the sample JSON files is exactly the format that `batch_write_item()` expects. For more info, you can check the documentation [here](https://boto3.amazonaws.com/v1/documentation/api/latest/reference/services/dynamodb/client/batch_write_item.html))."
   ]
  },
  {
   "cell_type": "code",
   "execution_count": null,
   "metadata": {},
   "outputs": [],
   "source": [
    "def batch_write_item_db(items: Dict[str, Any], **kwargs):\n",
    "    ### START CODE HERE ### (~ 2 lines of code)\n",
    "    client = boto3.client(\"dynamodb\") # @REPLACE EQUALS None\n",
    "    response = client.batch_write_item(RequestItems=items, **kwargs) # @REPLACE EQUALS client.batch_write_item(RequestItems=None, None)\n",
    "    ### END CODE HERE ###\n",
    "    \n",
    "    return response"
   ]
  },
  {
   "cell_type": "markdown",
   "metadata": {},
   "source": [
    "Now, let's read the data from the JSON sample files: `Reply` and `Forum` and then load the items as a batch into the corresponding tables."
   ]
  },
  {
   "cell_type": "code",
   "execution_count": null,
   "metadata": {},
   "outputs": [],
   "source": [
    "for dynamodb_tab in [reply_table, forum_table]:\n",
    "    file_name = dynamodb_tab['table_name'].split('-')[-1]    \n",
    "    items = read_data(file_path=f'./data/aws_sample_data/{file_name}.json')\n",
    "    response = batch_write_item_db(items=items)\n",
    "    print(response)"
   ]
  },
  {
   "cell_type": "markdown",
   "metadata": {},
   "source": [
    "##### __Expected Output__ \n",
    "\n",
    "```\n",
    "{'UnprocessedItems': {}, 'ResponseMetadata': {'RequestId': '4P678E81BOHRCUN82FFREOTC8NVV4KQNSO5AEMVJF66Q9ASUAAJG', 'HTTPStatusCode': 200, 'HTTPHeaders': {'server': 'Server', 'date': 'Wed, 14 Feb 2024 06:44:36 GMT', 'content-type': 'application/x-amz-json-1.0', 'content-length': '23', 'connection': 'keep-alive', 'x-amzn-requestid': '4P678E81BOHRCUN82FFREOTC8NVV4KQNSO5AEMVJF66Q9ASUAAJG', 'x-amz-crc32': '4185382651'}, 'RetryAttempts': 0}}\n",
    "{'UnprocessedItems': {}, 'ResponseMetadata': {'RequestId': 'R53NDPHFEH0UEL0MG6PFG8FEJRVV4KQNSO5AEMVJF66Q9ASUAAJG', 'HTTPStatusCode': 200, 'HTTPHeaders': {'server': 'Server', 'date': 'Wed, 14 Feb 2024 06:44:36 GMT', 'content-type': 'application/x-amz-json-1.0', 'content-length': '23', 'connection': 'keep-alive', 'x-amzn-requestid': 'R53NDPHFEH0UEL0MG6PFG8FEJRVV4KQNSO5AEMVJF66Q9ASUAAJG', 'x-amz-crc32': '4185382651'}, 'RetryAttempts': 0}\n",
    "}```"
   ]
  },
  {
   "cell_type": "markdown",
   "metadata": {},
   "source": [
    "<a name='5'></a>\n",
    "## 5 - Read Data from the Tables\n",
    "\n",
    "In this section, you will experiment with various approaches to read data from the DynamoDB tables."
   ]
  },
  {
   "cell_type": "markdown",
   "metadata": {},
   "source": [
    "<a name='5.1'></a>\n",
    "### 5.1 - Scan the Full Table\n",
    "\n",
    "You can perform a `DynamoDB scan()` operation on a DynamoDB table that fully scans the table and returns the items in 1MB chunks. Scanning is the slowest and most expensive way to get data out of DynamoDB. Let's first explore this approach."
   ]
  },
  {
   "cell_type": "markdown",
   "metadata": {},
   "source": [
    "<a name='ex04'></a>\n",
    "### Exercise 4\n",
    "\n",
    "In this exercise, you need to replace `None` with the appropriate values:\n",
    "1. Create the Client object `client`.\n",
    "2. Call the `client.scan()` method of the `client` object. It should receive the table name and keyword arguments. In the [DynamoDB boto3 documentation](https://boto3.amazonaws.com/v1/documentation/api/latest/reference/services/dynamodb.html), search for the `scan` method to check what it takes as parameters."
   ]
  },
  {
   "cell_type": "code",
   "execution_count": null,
   "metadata": {},
   "outputs": [],
   "source": [
    "def scan_db(table_name: str, **kwargs):\n",
    "    ### START CODE HERE ### (~ 2 lines of code)\n",
    "    client = boto3.client(\"dynamodb\") # @REPLACE EQUALS None\n",
    "    response = client.scan(TableName=table_name, **kwargs) # @REPLACE EQUALS client.scan(TableName=None, None)\n",
    "    ### END CODE HERE ###\n",
    "    \n",
    "    return response"
   ]
  },
  {
   "cell_type": "markdown",
   "metadata": {},
   "source": [
    "Let's make a full scan on the `ProductCatalog` table:"
   ]
  },
  {
   "cell_type": "code",
   "execution_count": null,
   "metadata": {},
   "outputs": [],
   "source": [
    "response = scan_db(product_catalog_table['table_name'])\n",
    "print(f\"Queried data for table {product_catalog_table['table_name']}:\\n{response}\")"
   ]
  },
  {
   "cell_type": "markdown",
   "metadata": {},
   "source": [
    "You can that the returned data has the same input structure that the method `DynamoDB put_item()` expects, which is the Marshal JSON. Marshal JSON is different from the usual JSON format that looks like the following:\n",
    "\n",
    "```JSON\n",
    "{\n",
    "    \"AttributeName\": \"Value\",\n",
    "    \"ListAttribute\": [\n",
    "        \"Value1\",\n",
    "        \"Value2\"\n",
    "    ]\n",
    "}\n",
    "```\n",
    "\n",
    "The usual JSON format is the typical format you will find in real life, as it can be easily parsed into Python Dictionaries. So you may need to convert the output returned by the `DynamoDB scan()` method into the usual JSON format, or you may need to convert data that is in the usual JSON format into Marshal JSON before inserting it into a DynamoDB table. The next optional part shows you how you can convert data in Marshal JSON into the usual JSON format. You can try the optional part or feel free to skip it.\n",
    " "
   ]
  },
  {
   "cell_type": "markdown",
   "metadata": {},
   "source": [
    "#### Optional Part - 1 (Deserializing Marshal JSON)"
   ]
  },
  {
   "cell_type": "markdown",
   "metadata": {},
   "source": [
    "Now, if you want to process data returned from DynamoDB operations with Python, you have to convert the data format to the usual JSON. `boto3` provides some utilities to help you with this process.\n",
    "To convert the `ProductCatalog` data returned by the scan method into a regular JSON format to be used in Python dictionaries, you can use the `data_deserializer()` function provided below that takes in as input the data in Marshal JSON. This function consists of the following:\n",
    "\n",
    "1. A `boto3` resource instantiation: [Resources](https://boto3.amazonaws.com/v1/documentation/api/latest/guide/resources.html) is a higher-level abstraction class built on top of Client that is used to represent AWS resources as Python objects, providing in this way a Pythonic and Object Oriented interface. With that resource, you can create a deserializer object by calling the method `TypeDeserializer()`.\n",
    "2. You can then use the `deserializer` object to call the `deserializer.deserialize()` method and apply it to each value to convert it into its deserialized version. (Note: if the returned value from `deserializer.deserialize(v)` is an instance of `decimal.Decimal`, you should convert it to float. This process of checking if the returned value is an instance of `decimal.Decimal` should be done because, by default, numerical values in DynamoDB are deserialized as decimals, which need to be handled properly if you want to work with the result; the easiest way is to convert them directly to float data type).\n",
    "\n",
    "The below function uses dictionary comprehension to iterate through the dictionary items. "
   ]
  },
  {
   "cell_type": "code",
   "execution_count": null,
   "metadata": {},
   "outputs": [],
   "source": [
    "def data_deserializer(data: Dict[str, Any]):\n",
    "    boto3.resource(\"dynamodb\")\n",
    "\n",
    "    deserializer = boto3.dynamodb.types.TypeDeserializer()\n",
    "\n",
    "    deserialized_data = {\n",
    "        k: (\n",
    "            float(deserializer.deserialize(v))\n",
    "            if isinstance(deserializer.deserialize(v), decimal.Decimal)\n",
    "            else deserializer.deserialize(v)\n",
    "        )\n",
    "        for k, v in data.items()\n",
    "    }\n",
    "\n",
    "    return deserialized_data"
   ]
  },
  {
   "cell_type": "markdown",
   "metadata": {},
   "source": [
    "Execute the method over the previous response to see the difference in the format."
   ]
  },
  {
   "cell_type": "code",
   "execution_count": null,
   "metadata": {},
   "outputs": [],
   "source": [
    "for item in response['Items']:\n",
    "    print(f\"DynamoDB returned Marshal JSON:\\n{item}\")\n",
    "    print(f\"Deserialized python dictionary:\\n {data_deserializer(item)}\")"
   ]
  },
  {
   "cell_type": "markdown",
   "metadata": {},
   "source": [
    "If you want to understand more about the transformation process between Marshall JSON and JSON/Python dictionaries, you can find tools like this one that will let you practice with them. You can also take a look at the `boto3`'s documentation to see how TypeSerializer and TypeDeserializer are implemented."
   ]
  },
  {
   "cell_type": "markdown",
   "metadata": {},
   "source": [
    "#### End of Optional Part - 1"
   ]
  },
  {
   "cell_type": "markdown",
   "metadata": {},
   "source": [
    "<a name='5.2'></a>\n",
    "### 5.2 - Read a Single Item\n",
    "\n",
    "The `DynamoDB scan()` method returns all items in a table. If you want to read a single item, you could use the `DynamoDB get_item()` method. This method expects the name of the table and the primary key of the requested item. It is the cheapest and fastest way to get data from DynamoDB."
   ]
  },
  {
   "cell_type": "markdown",
   "metadata": {},
   "source": [
    "<a name='ex05'></a>\n",
    "### Exercise 5\n",
    "\n",
    "In the following function, call the `client.get_item()` method of the `client` object. It should receive the table name, key and keyword arguments. For more information about this method, you can search for the `get_item`in the [documentation](https://boto3.amazonaws.com/v1/documentation/api/latest/reference/services/dynamodb.html)."
   ]
  },
  {
   "cell_type": "code",
   "execution_count": null,
   "metadata": {},
   "outputs": [],
   "source": [
    "def get_item_db(table_name, key: Dict[str, Any], **kwargs):\n",
    "    client = boto3.client(\"dynamodb\")\n",
    "\n",
    "    try:\n",
    "        ### START CODE HERE ### (~ 1 line of code)\n",
    "        response = client.get_item(TableName=table_name, Key=key, **kwargs) # @REPLACE EQUALS client.get_item(TableName=None, Key=None, None)\n",
    "        ### END CODE HERE ###\n",
    "        \n",
    "    except ClientError as e:\n",
    "        error = e.response.get(\"Error\", {})\n",
    "        logging.error(\n",
    "            f\"Failed to query DynamoDB. Error: {error.get('Message')}\"\n",
    "        )\n",
    "        response = {}\n",
    "    \n",
    "    return response"
   ]
  },
  {
   "cell_type": "markdown",
   "metadata": {},
   "source": [
    "Get the item with Id 101 from the `ProductCatalog` table."
   ]
  },
  {
   "cell_type": "code",
   "execution_count": null,
   "metadata": {},
   "outputs": [],
   "source": [
    "response = get_item_db(table_name=product_catalog_table['table_name'], \n",
    "                    key={'Id': {'N': '101'}})\n",
    "print(response)"
   ]
  },
  {
   "cell_type": "markdown",
   "metadata": {},
   "source": [
    "##### __Expected Output__ \n",
    "\n",
    "```\n",
    "{'Item': {'Title': {'S': 'Book 101 Title'}, 'InPublication': {'BOOL': True}, 'PageCount': {'N': '500'}, 'Dimensions': {'S': '8.5 x 11.0 x 0.5'}, 'ISBN': {'S': '111-1111111111'}, 'Authors': {'L': [{'S': 'Author1'}]}, 'Price': {'N': '2'}, 'ProductCategory': {'S': 'Book'}, 'Id': {'N': '101'}}, 'ResponseMetadata': {'RequestId': '08VIS0M7LH396M766IOPU54E9JVV4KQNSO5AEMVJF66Q9ASUAAJG', 'HTTPStatusCode': 200, 'HTTPHeaders': {'server': 'Server', 'date': 'Wed, 14 Feb 2024 06:44:53 GMT', 'content-type': 'application/x-amz-json-1.0', 'content-length': '263', 'connection': 'keep-alive', 'x-amzn-requestid': '08VIS0M7LH396M766IOPU54E9JVV4KQNSO5AEMVJF66Q9ASUAAJG', 'x-amz-crc32': '3181387427'}, 'RetryAttempts': 0}}\n",
    "```"
   ]
  },
  {
   "cell_type": "markdown",
   "metadata": {},
   "source": [
    "#### Optional Part - 2 (More options for the read methods)"
   ]
  },
  {
   "cell_type": "markdown",
   "metadata": {},
   "source": [
    "By default, a read from DynamoDB will use eventual consistency. A consistent read in DynamoDB is cheaper than a strongly consistent read. Several options can be added to the read methods, some of the regularly used ones are:\n",
    "- `ConsistentRead`: specifies that a strongly consistent read of the table is required;\n",
    "- `ProjectionExpression`: specifies what attributes should be returned;\n",
    "- `ReturnConsumedCapacity`: determines what level of detail about the consumed capacity the response should return.\n",
    "\n",
    "You can find more information about the parameters that the `DynamoDB.Client.get_item()` accepts by reading the [documentation](https://boto3.amazonaws.com/v1/documentation/api/latest/reference/services/dynamodb/client/get_item.html).\n",
    "\n",
    "In the following code, you will:\n",
    "1. Set the attribute `ConsistentRead` to `True` to ensure strongly consistent reads.\n",
    "2. Specify that you only want to retrieve the following fields: `ProductCategory`, `Price`, and `Title` using the `ProjectionExpression` attribute.\n",
    "3. Set the attribute `ReturnConsumedCapacity` to `'TOTAL'`.\n",
    "4. Query the item with `Id=101` from the `ProductCatalog` table."
   ]
  },
  {
   "cell_type": "code",
   "execution_count": null,
   "metadata": {},
   "outputs": [],
   "source": [
    "kwargs = {'ConsistentRead': True,\n",
    "          'ProjectionExpression': 'ProductCategory, Price, Title',\n",
    "          'ReturnConsumedCapacity': 'TOTAL'}\n",
    "\n",
    "response = get_item_db(table_name=product_catalog_table['table_name'], key={'Id': {'N': '101'}}, **kwargs)\n",
    "print(response)"
   ]
  },
  {
   "cell_type": "markdown",
   "metadata": {},
   "source": [
    "The previous request consumed 1.0 RCU because this item is less than 4KB. (RCU stands for Read Capacity Unit: \"One read capacity unit represents one strongly consistent read per second, or two eventually consistent reads per second, for an item up to 4 KB in size\", [reference](https://docs.aws.amazon.com/amazondynamodb/latest/developerguide/provisioned-capacity-mode.html)).\n",
    "\n",
    "If you run again the command but remove the ConsistentRead option, you can see that eventually consistent reads consume half as much capacity:"
   ]
  },
  {
   "cell_type": "code",
   "execution_count": null,
   "metadata": {},
   "outputs": [],
   "source": [
    "kwargs = {'ReturnConsumedCapacity': 'TOTAL', \n",
    "          'ProjectionExpression': 'ProductCategory, Price, Title'\n",
    "         }\n",
    "\n",
    "response = get_item_db(table_name=product_catalog_table['table_name'], \n",
    "                    key={'Id': {'N': '101'}}, **kwargs\n",
    "                    )\n",
    "print(response)"
   ]
  },
  {
   "cell_type": "markdown",
   "metadata": {},
   "source": [
    "#### End of Optional Part - 2"
   ]
  },
  {
   "cell_type": "markdown",
   "metadata": {},
   "source": [
    "<a name='5.3'></a>\n",
    "### 5.3 - Query Items that Share the Same Partition Key\n",
    "\n",
    "In DynamoDB, an item collection is a group of items that share the same partition key value, which means that items are related. You can query the items that belong to an item collection (i.e., that have the same partition key) using [DynamoDB query()](https://boto3.amazonaws.com/v1/documentation/api/latest/reference/services/dynamodb/client/query.html) method. In this method, you need to specify the particular value of the partition key of the items in interest.\n",
    "\n",
    "Item Collections only exist in tables that have both a Partition Key and a Sort Key. Optionally, you can provide the query method a sort key attribute and use a comparison operator to refine the search results.\n",
    "\n",
    "In the following exercise, you will use the `Reply` table as it has both a Partition and a Sort key. Let's first check its content."
   ]
  },
  {
   "cell_type": "code",
   "execution_count": null,
   "metadata": {},
   "outputs": [],
   "source": [
    "response = scan_db(reply_table['table_name'])\n",
    "print(response)"
   ]
  },
  {
   "cell_type": "markdown",
   "metadata": {},
   "source": [
    "Each reply in this table has an `Id` (Partition Key) that specifies in which thread the given reply appeared. The data consists of two threads in total that belong to the forum \"Amazon DynamoDB\", and each thread has 2 replies. Let's query the replies that belong to Thread 1. \n",
    "\n",
    "You will use the `query_db()` function defined below. This function calls the method `DynamoDB query()` which expects the particular value of the partition key and returns all items that have the specified partition key value. You can assume that the `kwargs` input of `query_db()` method contains the needed information (particular primary key value) for the `DynamoDB query()` method."
   ]
  },
  {
   "cell_type": "code",
   "execution_count": null,
   "metadata": {},
   "outputs": [],
   "source": [
    "def query_db(table_name: str,**kwargs,):\n",
    "        client = boto3.client(\"dynamodb\")\n",
    "\n",
    "        try:\n",
    "            response = client.query(\n",
    "                TableName=table_name,\n",
    "                **kwargs,\n",
    "            )\n",
    "            logging.info(f\"Response {response}\")\n",
    "        except ClientError as e:\n",
    "            error = e.response.get(\"Error\", {})\n",
    "            logging.error(\n",
    "                f\"Failed to query DynamoDB. Error: {error.get('Message')}\"\n",
    "            )\n",
    "            raise\n",
    "        else:\n",
    "            logging.info(f\"Query result {response.get('Items', {})}\")\n",
    "            return response"
   ]
  },
  {
   "cell_type": "markdown",
   "metadata": {},
   "source": [
    "Now let's get into the details of the dictionary `kwargs` that is passed to `client.query()`.\n",
    "\n",
    "The following cell shows an example of what `kwargs` should contain, as expected by the `DynamoDB query()` method:\n",
    "\n",
    "`KeyConditionExpression`: is the condition that specifies the partition key value of the items that need to be retrieved; you can see in this syntax the name of the partition key which is `Id` and its particular value is denoted with another parameter `:Id` which is defined in the next argument `ExpressionAttributeValues`. To understand more about this syntax, you can always check the [documentation](https://boto3.amazonaws.com/v1/documentation/api/latest/reference/services/dynamodb/client/query.html). The parameter: `ReturnedConsumedCapacity` determines what level of detail about the consumed capacity the response should return."
   ]
  },
  {
   "cell_type": "code",
   "execution_count": null,
   "metadata": {},
   "outputs": [],
   "source": [
    "kwargs = {'ReturnConsumedCapacity': 'TOTAL', \n",
    "          'KeyConditionExpression': 'Id = :Id',\n",
    "          'ExpressionAttributeValues': {':Id': {'S': 'Amazon DynamoDB#DynamoDB Thread 1'}}\n",
    "          } \n",
    "\n",
    "# returns the items that has ID = 'Amazon DynamoDB#DynamoDB Thread 1'\n",
    "response = query_db(table_name=reply_table['table_name'], **kwargs) \n",
    "               \n",
    "print(response)"
   ]
  },
  {
   "cell_type": "markdown",
   "metadata": {},
   "source": [
    "You can also query the items that share the same partition key and also satisfy a certain condition on the sort key. Since the sort key of the Reply table is a timestamp, you can add a condition to `KeyConditionExpression` to get the replies of a particular thread that were posted after a certain time. Take a closer look at how the sort key is compared with the `:ts` parameter and how this parameter is defined in the `ExpressionAttributeValues`."
   ]
  },
  {
   "cell_type": "code",
   "execution_count": null,
   "metadata": {},
   "outputs": [],
   "source": [
    "kwargs = {'ReturnConsumedCapacity': 'TOTAL', \n",
    "          'KeyConditionExpression': 'Id = :Id and ReplyDateTime > :ts',\n",
    "          'ExpressionAttributeValues': {':Id': {'S': 'Amazon DynamoDB#DynamoDB Thread 1'}, \n",
    "                               ':ts' : {'S':\"2015-09-21\"}\n",
    "                               }\n",
    "          }\n",
    "\n",
    "response = query_db(table_name=reply_table['table_name'], **kwargs)\n",
    "\n",
    "print(response)"
   ]
  },
  {
   "cell_type": "markdown",
   "metadata": {},
   "source": [
    "In addition to `keyConditionExpression`, you can also use `FilterExpression` to filter the results based on non-key attributes. For example, to find all the replies to Thread 1 that were posted by User B, you can do:"
   ]
  },
  {
   "cell_type": "code",
   "execution_count": null,
   "metadata": {},
   "outputs": [],
   "source": [
    "kwargs = {'ReturnConsumedCapacity': 'TOTAL', \n",
    "          'KeyConditionExpression': 'Id = :Id ',\n",
    "          'FilterExpression': 'PostedBy = :user',\n",
    "          'ExpressionAttributeValues': {':Id': {'S': 'Amazon DynamoDB#DynamoDB Thread 1'}, \n",
    "                               ':user' : {'S':'User B'}\n",
    "                               }          \n",
    "          }\n",
    "\n",
    "response = query_db(table_name=reply_table['table_name'], **kwargs)\n",
    "\n",
    "print(response)"
   ]
  },
  {
   "cell_type": "markdown",
   "metadata": {},
   "source": [
    "Note that in the response you will see these lines:\n",
    "\n",
    "```\n",
    "\"Count\": 1,\n",
    "\"ScannedCount\": 2,\n",
    "```\n",
    "\n",
    "This tells you that the Key Condition Expression matched 2 items (ScannedCount based on the value of the partition key) and that's what you were charged to read, but the Filter Expression reduced the result set size down to 1 item (Count)."
   ]
  },
  {
   "cell_type": "markdown",
   "metadata": {},
   "source": [
    "<a name='ex06'></a>\n",
    "### Exercise 6\n",
    "\n",
    "Open the [documentation](https://boto3.amazonaws.com/v1/documentation/api/latest/reference/services/dynamodb/client/query.html) for the `DynamoDB query()` method and search for the `Limit` and `ScanIndexForward` parameters. In this exercise, you need to write the following query: return only the first reply to Thread 1.\n",
    "\n",
    "<details>    \n",
    "<summary>\n",
    "    <font size=\"3\" color=\"darkgreen\"><b>Hint</b></font>\n",
    "</summary>\n",
    "<p>\n",
    "<ul>\n",
    "    Consider the <code>Limit</code> and <code>ScanIndexForward</code> parameters. If you want to sort items in ascending order based on the sort key, use the parameter <code>ScanIndexForward</code>. If you want to limit the number of items then use the <code>Limit</code> parameter. This would be analogous in SQL to: <code>ORDER BY ReplyDateTime ASC LIMIT 1</code>.\n",
    "   \n",
    "</ul>\n",
    "</p>"
   ]
  },
  {
   "cell_type": "code",
   "execution_count": null,
   "metadata": {},
   "outputs": [],
   "source": [
    "kwargs = {'ReturnConsumedCapacity': 'TOTAL', \n",
    "          'KeyConditionExpression': 'Id = :Id ',\n",
    "          'ExpressionAttributeValues': {\":Id\" : {\"S\": \"Amazon DynamoDB#DynamoDB Thread 1\"}},\n",
    "          ### START CODE HERE ### (~ 2 lines of code)\n",
    "          'Limit': 1, # @REPLACE           'None': None,\n",
    "          'ScanIndexForward':  True # @REPLACE           'None': True,\n",
    "          ### END CODE HERE ###\n",
    "          }\n",
    "\n",
    "response = query_db(table_name=reply_table['table_name'], **kwargs)\n",
    "\n",
    "print(response)"
   ]
  },
  {
   "cell_type": "markdown",
   "metadata": {},
   "source": [
    "##### __Expected Output__ \n",
    "\n",
    "**Note:** The `'ResponseMetadata'` attribute can differ in your output. \n",
    "\n",
    "```\n",
    "{'Items': [{'ReplyDateTime': {'S': '2015-09-15T19:58:22.947Z'}, 'Message': {'S': 'DynamoDB Thread 1 Reply 1 text'}, 'PostedBy': {'S': 'User A'}, 'Id': {'S': 'Amazon DynamoDB#DynamoDB Thread 1'}}], 'Count': 1, 'ScannedCount': 1, 'LastEvaluatedKey': {'Id': {'S': 'Amazon DynamoDB#DynamoDB Thread 1'}, 'ReplyDateTime': {'S': '2015-09-15T19:58:22.947Z'}}, 'ConsumedCapacity': {'TableName': 'de-c2w1-dynamodb-Reply', 'CapacityUnits': 0.5}, 'ResponseMetadata': {'RequestId': 'EMV7RBG34OOUCP0KS4LARC1B6BVV4KQNSO5AEMVJF66Q9ASUAAJG', 'HTTPStatusCode': 200, 'HTTPHeaders': {'server': 'Server', 'date': 'Wed, 14 Feb 2024 06:45:11 GMT', 'content-type': 'application/x-amz-json-1.0', 'content-length': '406', 'connection': 'keep-alive', 'x-amzn-requestid': 'EMV7RBG34OOUCP0KS4LARC1B6BVV4KQNSO5AEMVJF66Q9ASUAAJG', 'x-amz-crc32': '284193681'}, 'RetryAttempts': 0}}\n",
    "```"
   ]
  },
  {
   "cell_type": "markdown",
   "metadata": {},
   "source": [
    "<a name='ex07'></a>\n",
    "### Exercise 7\n",
    "\n",
    "Adjust the query to return only the most recent reply for Thread 1."
   ]
  },
  {
   "cell_type": "code",
   "execution_count": null,
   "metadata": {},
   "outputs": [],
   "source": [
    "kwargs = {'ReturnConsumedCapacity': 'TOTAL', \n",
    "          'KeyConditionExpression': 'Id = :Id ',\n",
    "          'ExpressionAttributeValues': {\":Id\" : {\"S\": \"Amazon DynamoDB#DynamoDB Thread 1\"}},\n",
    "          ### START CODE HERE ### (~ 2 lines of code)\n",
    "          'Limit': 1, # @REPLACE           'None': None,\n",
    "          'ScanIndexForward':  False # @REPLACE           'None': False,\n",
    "          ### END CODE HERE ###\n",
    "          }\n",
    "\n",
    "response = query_db(table_name=reply_table['table_name'], **kwargs)\n",
    "\n",
    "print(response)"
   ]
  },
  {
   "cell_type": "markdown",
   "metadata": {},
   "source": [
    "##### __Expected Output__ \n",
    "\n",
    "**Note:** The `'ResponseMetadata'` attribute can differ in your output. \n",
    "\n",
    "```\n",
    "{'Items': [{'ReplyDateTime': {'S': '2015-09-22T19:58:22.947Z'}, 'Message': {'S': 'DynamoDB Thread 1 Reply 2 text'}, 'PostedBy': {'S': 'User B'}, 'Id': {'S': 'Amazon DynamoDB#DynamoDB Thread 1'}}], 'Count': 1, 'ScannedCount': 1, 'LastEvaluatedKey': {'Id': {'S': 'Amazon DynamoDB#DynamoDB Thread 1'}, 'ReplyDateTime': {'S': '2015-09-22T19:58:22.947Z'}}, 'ConsumedCapacity': {'TableName': 'de-c2w1-dynamodb-Reply', 'CapacityUnits': 0.5}, 'ResponseMetadata': {'RequestId': '7V1KQ1STK5C07EFR1DK0PGPBKFVV4KQNSO5AEMVJF66Q9ASUAAJG', 'HTTPStatusCode': 200, 'HTTPHeaders': {'server': 'Server', 'date': 'Wed, 14 Feb 2024 06:45:13 GMT', 'content-type': 'application/x-amz-json-1.0', 'content-length': '406', 'connection': 'keep-alive', 'x-amzn-requestid': '7V1KQ1STK5C07EFR1DK0PGPBKFVV4KQNSO5AEMVJF66Q9ASUAAJG', 'x-amz-crc32': '1848739007'}, 'RetryAttempts': 0}}\n",
    "```"
   ]
  },
  {
   "cell_type": "markdown",
   "metadata": {},
   "source": [
    "<a name='5.4'></a>\n",
    "### 5.4 - Filtering the Table Scans\n",
    "\n",
    "The `DynamoDB scan()` method is similar to the `DynamoDB query()` method except that you are scanning the whole table, not just a single Item Collection, so there is no Key Condition Expression that you need to specify for `DynamoDB scan()`. However, you can specify a `FilterExpression` which will reduce the size of the result set (even though it will not reduce the amount of capacity consumed).\n",
    "\n",
    "For example, find all the replies in the Reply table that were posted by User A:"
   ]
  },
  {
   "cell_type": "code",
   "execution_count": null,
   "metadata": {},
   "outputs": [],
   "source": [
    "kwargs = {'ReturnConsumedCapacity': 'TOTAL', \n",
    "          'FilterExpression': 'PostedBy = :user', \n",
    "          'ExpressionAttributeValues': {':user' : {'S':'User A'}}\n",
    "        }\n",
    "\n",
    "response = scan_db(reply_table['table_name'], **kwargs)\n",
    "print(response)"
   ]
  },
  {
   "cell_type": "markdown",
   "metadata": {},
   "source": [
    "The response contains these fields:\n",
    "\n",
    "```\n",
    "\"Count\": 3,\n",
    "\"ScannedCount\": 4,\n",
    "```\n",
    "\n",
    "This informs you that the `DynamoDB scan()` scanned all 4 items (`ScannedCount`) in the table and that's what you were charged to read, but the `FilterExpression` reduced the result set size down to 3 items (`Count`)."
   ]
  },
  {
   "cell_type": "markdown",
   "metadata": {},
   "source": [
    "#### Start of Optional Part  - 3 (Last evaluated key)"
   ]
  },
  {
   "cell_type": "markdown",
   "metadata": {},
   "source": [
    "When scanning data, the response may exceed the 1MB limit on the server side or surpass the specified `Limit` parameter. In such cases, the scan response will contain a `LastEvaluatedKey` field, allowing for subsequent scan calls to continue from where the previous scan left off. For instance, if the initial scan identified 3 items in the result set, running it again with a maximum item limit of 2 can demonstrate this behavior."
   ]
  },
  {
   "cell_type": "code",
   "execution_count": null,
   "metadata": {},
   "outputs": [],
   "source": [
    "kwargs = {'ReturnConsumedCapacity': 'TOTAL', \n",
    "          'FilterExpression': 'PostedBy = :user', \n",
    "          'ExpressionAttributeValues': {':user' : {'S':'User A'}},\n",
    "          'Limit': 2\n",
    "        }\n",
    "response = scan_db(reply_table['table_name'], **kwargs)\n",
    "print(response)"
   ]
  },
  {
   "cell_type": "markdown",
   "metadata": {},
   "source": [
    "Let's take the `LastEvaluatedKey` field and use it for the next table scan:"
   ]
  },
  {
   "cell_type": "code",
   "execution_count": null,
   "metadata": {},
   "outputs": [],
   "source": [
    "last_evaluated_key = response.get(\"LastEvaluatedKey\")\n",
    "print(last_evaluated_key)"
   ]
  },
  {
   "cell_type": "markdown",
   "metadata": {},
   "source": [
    "So you can invoke the scan request again, this time passing that `LastEvaluatedKey` value to the `ExclusiveStartKey` parameter:"
   ]
  },
  {
   "cell_type": "code",
   "execution_count": null,
   "metadata": {},
   "outputs": [],
   "source": [
    "kwargs = {'ReturnConsumedCapacity': 'TOTAL', \n",
    "          'FilterExpression': 'PostedBy = :user', \n",
    "          'ExpressionAttributeValues': {':user' : {'S':'User A'}},\n",
    "          'Limit': 2,\n",
    "          'ExclusiveStartKey': last_evaluated_key\n",
    "        }\n",
    "\n",
    "response = scan_db(reply_table['table_name'], **kwargs)\n",
    "print(response)"
   ]
  },
  {
   "cell_type": "markdown",
   "metadata": {},
   "source": [
    "Check the data in the Forum table with a scan command to return only the Forums that have more than 1 thread and more than 50 views.\n",
    "\n",
    "You can see that some items have a Threads number attribute and a Views number attribute. To solve this problem you want to use those attributes in the `FilterExpression`. Make sure to specify that these values are of the Number type by using \"N\" in the `--expression-attribute-values` parameter.\n",
    "\n",
    "Since the `Views` attribute name is a DynamoDB Reserved Word, DynamoDB gives you the ability to put a placeholder in the `FilterExpression` and provide the actual attribute name in the `--expression-attribute-names` CLI parameter. For more information please see the [Expression Attribute Names](https://docs.aws.amazon.com/amazondynamodb/latest/developerguide/Expressions.ExpressionAttributeNames.html) in DynamoDB in the Developer Guide."
   ]
  },
  {
   "cell_type": "code",
   "execution_count": null,
   "metadata": {},
   "outputs": [],
   "source": [
    "kwargs = {'ReturnConsumedCapacity': 'TOTAL', \n",
    "          'FilterExpression': 'Threads >= :threads AND #Views >= :views', \n",
    "          'ExpressionAttributeValues': {\":threads\" : {\"N\": \"1\"},\n",
    "                                        \":views\" : {\"N\": \"50\"}},\n",
    "          'ExpressionAttributeNames':{\"#Views\" : \"Views\"}\n",
    "        }\n",
    "\n",
    "response = scan_db(forum_table['table_name'], **kwargs)\n",
    "print(response)    "
   ]
  },
  {
   "cell_type": "markdown",
   "metadata": {},
   "source": [
    "#### End of Optional Part - 3"
   ]
  },
  {
   "cell_type": "markdown",
   "metadata": {},
   "source": [
    "<a name='6'></a>\n",
    "## 6 - Insert and Update Data"
   ]
  },
  {
   "cell_type": "markdown",
   "metadata": {},
   "source": [
    "<a name='6.1'></a>\n",
    "### 6.1 - Insert Data\n",
    "\n",
    "The `DynamoDB put_item()` method is used to create a new item or to replace existing items with a new item. You have already created the `put_item_db()` function to load data item-by-item to some tables. Now, let's say we wanted to insert a new item into the Reply table. You will see in the response that this request consumed 1 Write Capacity Unit (WCU) (One write capacity unit represents one write per second for an item up to 1 KB in size. [reference](https://docs.aws.amazon.com/amazondynamodb/latest/developerguide/HowItWorks.ReadWriteCapacityMode.html))."
   ]
  },
  {
   "cell_type": "code",
   "execution_count": null,
   "metadata": {},
   "outputs": [],
   "source": [
    "new_item = {\n",
    "        \"Id\" : {\"S\": \"Amazon DynamoDB#DynamoDB Thread 2\"},\n",
    "        \"ReplyDateTime\" : {\"S\": \"2021-04-27T17:47:30Z\"},\n",
    "        \"Message\" : {\"S\": \"DynamoDB Thread 2 Reply 3 text\"},\n",
    "        \"PostedBy\" : {\"S\": \"User C\"}\n",
    "    }\n",
    "\n",
    "kwargs = {'ReturnConsumedCapacity': 'TOTAL'}\n",
    "    \n",
    "\n",
    "response = put_item_db(table_name=reply_table[\"table_name\"], item=new_item, **kwargs)\n",
    "print(response)"
   ]
  },
  {
   "cell_type": "markdown",
   "metadata": {},
   "source": [
    "<a name='6.2'></a>\n",
    "### 6.2 - Update Data\n",
    "\n",
    "The `DynamoDB update_item()` method can be used to edit an existing item's attributes or add a new item to the table if it does not already exist. \"This method requires that you provide the primary key of the item that you want to update. You must also provide an update expression (`UpdateExpression`), indicating the attributes that you want to modify and the values that you want to assign to them\" ([developer's guide](https://docs.aws.amazon.com/amazondynamodb/latest/developerguide/WorkingWithItems.html)). For more information about the format of the update expression, check [here](https://docs.aws.amazon.com/amazondynamodb/latest/developerguide/Expressions.UpdateExpressions.html). You can also specify a condition expression to determine which items should be modified.\n",
    "Take a look at the provided function below, where `ReturnValues='UPDATED_NEW'` returns only the updated attributes as they appear after the Update operation."
   ]
  },
  {
   "cell_type": "code",
   "execution_count": null,
   "metadata": {},
   "outputs": [],
   "source": [
    "def update_item_db(table_name: str, key: Dict[str, Any], **kwargs):\n",
    "    client = boto3.client(\"dynamodb\")\n",
    "\n",
    "    response = client.update_item(\n",
    "        TableName=table_name, Key=key, ReturnValues=\"UPDATED_NEW\", **kwargs\n",
    "    )\n",
    "\n",
    "    return response"
   ]
  },
  {
   "cell_type": "code",
   "execution_count": null,
   "metadata": {},
   "outputs": [],
   "source": [
    "kwargs= {    \n",
    "    'UpdateExpression': 'SET Messages = :newMessages',\n",
    "    'ConditionExpression': 'Messages = :oldMessages',\n",
    "    'ExpressionAttributeValues': {\n",
    "        \":oldMessages\" : {\"N\": \"4\"},\n",
    "        \":newMessages\" : {\"N\": \"5\"}\n",
    "    }\n",
    "}\n",
    "response = update_item_db(table_name=forum_table['table_name'], key={'Name' : {'S': 'Amazon DynamoDB'}}, **kwargs)\n",
    "print(response)"
   ]
  },
  {
   "cell_type": "markdown",
   "metadata": {},
   "source": [
    "This function updated the Forums that had the total number of messages as 4 so that now these forums have 5 messages."
   ]
  },
  {
   "cell_type": "markdown",
   "metadata": {},
   "source": [
    "<a name='ex08'></a>\n",
    "### Exercise 8\n",
    "\n",
    "Update the `de-c2w1-dynamodb-ProductCatalog` item with `Id=\"201\"` to add new colors \"Blue\" and \"Yellow\" to the list of colors for that bike type. You are provided with the update expression which consisting of appending to a list of values. For more information, you can check the <a href=\"https://docs.aws.amazon.com/amazondynamodb/latest/developerguide/Expressions.UpdateExpressions.html\">Update Expressions</a> page in the Developer Guide which has sections on Appending and Removing Elements in a List. </li>\n",
    "   \n",
    "\n",
    "\n",
    "You can use the `DyanamoDB get_item()` to verify that these changes were made after each step."
   ]
  },
  {
   "cell_type": "code",
   "execution_count": null,
   "metadata": {},
   "outputs": [],
   "source": [
    "kwargs = {\n",
    "    'UpdateExpression': 'SET #Color = list_append(#Color, :values)',\n",
    "    'ExpressionAttributeNames': {'#Color': 'Color'},\n",
    "    'ExpressionAttributeValues': {':values': {'L': [{'S': 'Blue'}, {'S': 'Yellow'}]}},\n",
    "    'ReturnConsumedCapacity': 'TOTAL'\n",
    "}\n",
    "\n",
    "### START CODE HERE ### (~ 1 line of code)\n",
    "response = update_item_db(table_name=product_catalog_table['table_name'], key={'Id': {'N': '201'}}, **kwargs) # @REPLACE EQUALS update_item_db(table_name=None['None'], key={'Id': {'N': 'None'}}, None)\n",
    "### END CODE HERE ###\n",
    "\n",
    "print(response)"
   ]
  },
  {
   "cell_type": "markdown",
   "metadata": {},
   "source": [
    "##### __Expected Output__ \n",
    "\n",
    "```\n",
    "{'Attributes': {'Color': {'L': [{'S': 'Red'}, {'S': 'Black'}, {'S': 'Blue'}, {'S': 'Yellow'}]}}, 'ConsumedCapacity': {'TableName': 'de-c2w1-dynamodb-ProductCatalog', 'CapacityUnits': 1.0}, 'ResponseMetadata': {'RequestId': 'D3CK6H42KF2DB9ITOO8K7UD95FVV4KQNSO5AEMVJF66Q9ASUAAJG', 'HTTPStatusCode': 200, 'HTTPHeaders': {'server': 'Server', 'date': 'Wed, 14 Feb 2024 06:45:33 GMT', 'content-type': 'application/x-amz-json-1.0', 'content-length': '173', 'connection': 'keep-alive', 'x-amzn-requestid': 'D3CK6H42KF2DB9ITOO8K7UD95FVV4KQNSO5AEMVJF66Q9ASUAAJG', 'x-amz-crc32': '3394722026'}, 'RetryAttempts': 0}}\n",
    "```"
   ]
  },
  {
   "cell_type": "code",
   "execution_count": null,
   "metadata": {},
   "outputs": [],
   "source": [
    "response = get_item_db(table_name=product_catalog_table['table_name'], \n",
    "                                      key={'Id': {'N': '201'}}\n",
    "                                    )\n",
    "print(response)"
   ]
  },
  {
   "cell_type": "markdown",
   "metadata": {},
   "source": [
    "<a name='ex09'></a>\n",
    "### Exercise 9\n",
    "\n",
    "In this exercise use the `update_item_db()` function to remove the list entries \"Blue\" and \"Yellow\" that you just added, to bring the bike item back to the original state. In DynamoDB, lists are 0-based indexed."
   ]
  },
  {
   "cell_type": "code",
   "execution_count": null,
   "metadata": {},
   "outputs": [],
   "source": [
    "kwargs = {\n",
    "    'UpdateExpression': 'REMOVE #Color[2], #Color[3]',\n",
    "    'ExpressionAttributeNames': {'#Color': 'Color'},\n",
    "    'ReturnConsumedCapacity': 'TOTAL'\n",
    "}\n",
    "\n",
    "### START CODE HERE ### (~ 1 line of code)\n",
    "response = update_item_db(table_name=product_catalog_table['table_name'], key={'Id': {'N': '201'}}, **kwargs) # @REPLACE EQUALS update_item_db(table_name=None['None'], key={'Id': {'N': 'None'}}, None)\n",
    "### END CODE HERE ###\n",
    "\n",
    "print(response)"
   ]
  },
  {
   "cell_type": "markdown",
   "metadata": {},
   "source": [
    "##### __Expected Output__ \n",
    "\n",
    "```\n",
    "{'ConsumedCapacity': {'TableName': 'de-c2w1-dynamodb-ProductCatalog', 'CapacityUnits': 1.0}, 'ResponseMetadata': {'RequestId': 'CFU1SD9DECJOS6SLMVT3KT4CH7VV4KQNSO5AEMVJF66Q9ASUAAJG', 'HTTPStatusCode': 200, 'HTTPHeaders': {'server': 'Server', 'date': 'Wed, 14 Feb 2024 06:45:37 GMT', 'content-type': 'application/x-amz-json-1.0', 'content-length': '88', 'connection': 'keep-alive', 'x-amzn-requestid': 'CFU1SD9DECJOS6SLMVT3KT4CH7VV4KQNSO5AEMVJF66Q9ASUAAJG', 'x-amz-crc32': '866229524'}, 'RetryAttempts': 0}}\n",
    "```"
   ]
  },
  {
   "cell_type": "code",
   "execution_count": null,
   "metadata": {},
   "outputs": [],
   "source": [
    "response = get_item_db(table_name=product_catalog_table['table_name'], \n",
    "                                      key={'Id': {'N': '201'}}\n",
    "                                    )\n",
    "print(response)"
   ]
  },
  {
   "cell_type": "markdown",
   "metadata": {},
   "source": [
    "<a name='7'></a>\n",
    "## 7 - Delete Data\n",
    "\n",
    "The `DynamoDB DeleteItem()` method is used to delete an item. Deletes in DynamoDB are singleton operations. There is no single command you can run that would delete all the rows in the table. Let's delete one of the items we previously added to the Reply table; for that, you need to reference the full Primary Key. Remember that the Reply table has `Id` as the partition key and `ReplyDateTime` as the sort key, so the complete Primary Key is composed of those two keys. Follow the instructions to create the `delete_item_db()` function."
   ]
  },
  {
   "cell_type": "markdown",
   "metadata": {},
   "source": [
    "<a name='ex10'></a>\n",
    "### Exercise 10\n",
    "\n",
    "1. Create the Client object `client`.\n",
    "2. Use the `client.delete_item()` method of the client object. Make sure to add the table name and key parameters in the method call. The rest of the parameters should be passed as keyword arguments."
   ]
  },
  {
   "cell_type": "code",
   "execution_count": null,
   "metadata": {},
   "outputs": [],
   "source": [
    "def delete_item_db(table_name: str, key: dict[str, Any], **kwargs):\n",
    "    ### START CODE HERE ### (~ 2 lines of code)\n",
    "    client = boto3.client(\"dynamodb\") # @REPLACE EQUALS None\n",
    "    response = client.delete_item(TableName=table_name, Key=key, **kwargs) # @REPLACE EQUALS client.delete_item(TableName=None, Key=None, None)\n",
    "    ### END CODE HERE ###\n",
    "    \n",
    "    logging.info(f\"response {response}\")"
   ]
  },
  {
   "cell_type": "code",
   "execution_count": null,
   "metadata": {},
   "outputs": [],
   "source": [
    "key = {\"Id\" : {\"S\": \"Amazon DynamoDB#DynamoDB Thread 2\"},\n",
    "       \"ReplyDateTime\" : {\"S\": \"2021-04-27T17:47:30Z\"}\n",
    "       }\n",
    "\n",
    "delete_item_db(table_name=reply_table['table_name'], key=key)"
   ]
  },
  {
   "cell_type": "markdown",
   "metadata": {},
   "source": [
    "The same item can be deleted more than once. You can run the same command above as many times as you want and it won't report any error: even if the key doesn't exist the method `DynamoDB delete_item()` returns success. Now, you have to decrement the related Forum *Messages* count: "
   ]
  },
  {
   "cell_type": "code",
   "execution_count": null,
   "metadata": {},
   "outputs": [],
   "source": [
    "kwargs= {    \n",
    "    'UpdateExpression': 'SET Messages = :newMessages',\n",
    "    'ConditionExpression': 'Messages = :oldMessages',\n",
    "    'ExpressionAttributeValues': {\n",
    "        \":oldMessages\" : {\"N\": \"5\"},\n",
    "        \":newMessages\" : {\"N\": \"4\"}\n",
    "    },\n",
    "    'ReturnConsumedCapacity': 'TOTAL'\n",
    "}\n",
    "\n",
    "update_item_db(table_name=forum_table['table_name'], key={'Name' : {'S': 'Amazon DynamoDB'}}, **kwargs)\n"
   ]
  },
  {
   "cell_type": "markdown",
   "metadata": {},
   "source": [
    "The next section is entirely optional. Feel free to skip it to go through the last section which is on cleanup."
   ]
  },
  {
   "cell_type": "markdown",
   "metadata": {},
   "source": [
    "<a name='8'></a>\n",
    "## 8 - Transactions - Optional Section"
   ]
  },
  {
   "cell_type": "markdown",
   "metadata": {},
   "source": [
    "The `DynamoDB transact_write_items` is a synchronous write operation that groups up to 100 action requests, with a collective size limit of 4MB for the entire transaction. These actions can operate on items in various tables, though not across distinct AWS accounts or Regions. Additionally, no two actions can target the same item. The execution of actions is atomic, ensuring that either all of them succeed or all of them fail.\n",
    "\n",
    "You have seen that the sample data includes interconnected tables: `Forum`, `Thread`, and `Reply`. When adding a new `Reply` item, there's a need to increment the `Messages` count in the associated `Forum` item. This operation should occur within a transaction to guarantee that both changes either succeed or fail simultaneously. Any observer reading this data should witness both changes or none at the same time.\n",
    "    \n",
    "DynamoDB transactions adhere to the concept of **idempotency**, allowing the submission of the same transaction multiple times. However, DynamoDB will execute it only once. This feature is particularly valuable when working with APIs that lack inherent idempotency, such as using `update_item` to modify a numeric field. During transaction execution, you specify a string as the `ClientRequestToken` (also known as Idempotency Token). \n",
    "    "
   ]
  },
  {
   "cell_type": "markdown",
   "metadata": {},
   "source": [
    "<a name='ex11'></a>\n",
    "### Exercise 11\n",
    "\n",
    "1. Create the Client object `client`.\n",
    "2. Call the `DynamoDB transact_write_items()` method; explicitly pass the transaction items. Other parameters should be passed as keyword parameters."
   ]
  },
  {
   "cell_type": "code",
   "execution_count": null,
   "metadata": {},
   "outputs": [],
   "source": [
    "def transact_write_items_db(transaction_items: List[Dict[str, Any]], **kwargs):\n",
    "    ### START CODE HERE ### (~ 2 lines of code)\n",
    "    client = boto3.client(\"dynamodb\") # @REPLACE EQUALS None\n",
    "    response = client.transact_write_items(TransactItems=transaction_items, **kwargs) # @REPLACE EQUALS client.transact_write_items(TransactItems=None, None)\n",
    "    ### END CODE HERE ###\n",
    "\n",
    "    return response"
   ]
  },
  {
   "cell_type": "markdown",
   "metadata": {},
   "source": [
    "Let's perform first the transaction by adding a new user to the `Reply` table."
   ]
  },
  {
   "cell_type": "code",
   "execution_count": null,
   "metadata": {},
   "outputs": [],
   "source": [
    "transaction_items=[\n",
    "    {\n",
    "        \"Put\": {\n",
    "            \"TableName\" : reply_table['table_name'],\n",
    "            \"Item\" : {\n",
    "                \"Id\" : {\"S\": \"Amazon DynamoDB#DynamoDB Thread 2\"},\n",
    "                \"ReplyDateTime\" : {\"S\": \"2021-04-27T17:47:30Z\"},\n",
    "                \"Message\" : {\"S\": \"DynamoDB Thread 2 Reply 3 text\"},\n",
    "                \"PostedBy\" : {\"S\": \"User C\"}\n",
    "            }\n",
    "        }\n",
    "    },\n",
    "    {\n",
    "        \"Update\": {\n",
    "            \"TableName\" : forum_table['table_name'],\n",
    "            \"Key\" : {\"Name\" : {\"S\": \"Amazon DynamoDB\"}},\n",
    "            \"UpdateExpression\": \"ADD Messages :inc\",\n",
    "            \"ExpressionAttributeValues\" : { \":inc\": {\"N\" : \"1\"} }\n",
    "        }\n",
    "    }\n",
    "]\n",
    "\n",
    "kwargs = {'ClientRequestToken': 'TRANSACTION1'}\n",
    "\n",
    "response = transact_write_items_db(transaction_items=transaction_items, **kwargs)\n",
    "print(response)"
   ]
  },
  {
   "cell_type": "markdown",
   "metadata": {},
   "source": [
    "After the transaction is finished, you can take a look at the Forum item and you'll see that the Messages count was incremented by 1, from 4 to 5."
   ]
  },
  {
   "cell_type": "code",
   "execution_count": null,
   "metadata": {},
   "outputs": [],
   "source": [
    "response = get_item_db(table_name=forum_table['table_name'], key={\"Name\" : {\"S\": \"Amazon DynamoDB\"}})\n",
    "print(response)"
   ]
  },
  {
   "cell_type": "markdown",
   "metadata": {},
   "source": [
    "If the transaction is executed again with the same value of the `'ClientRequestToken'` as `'TRANSACTION1'` you can see that other invocations of the transaction are ignored and the `Messages` attribute remains the value at 5. You can also use transactions to reverse the operation done before; take into account that there is a new value for the `ClientRequestToken` for this transaction:"
   ]
  },
  {
   "cell_type": "code",
   "execution_count": null,
   "metadata": {},
   "outputs": [],
   "source": [
    "transaction_items=[\n",
    "    {\n",
    "        \"Delete\": {\n",
    "            \"TableName\" : reply_table['table_name'],\n",
    "            \"Key\" : {\n",
    "                \"Id\" : {\"S\": \"Amazon DynamoDB#DynamoDB Thread 2\"},\n",
    "                \"ReplyDateTime\" : {\"S\": \"2021-04-27T17:47:30Z\"}\n",
    "            }\n",
    "        }\n",
    "    },\n",
    "    {\n",
    "        \"Update\": {\n",
    "            \"TableName\" : forum_table['table_name'],\n",
    "            \"Key\" : {\"Name\" : {\"S\": \"Amazon DynamoDB\"}},\n",
    "            \"UpdateExpression\": \"ADD Messages :inc\",\n",
    "            \"ExpressionAttributeValues\" : { \":inc\": {\"N\" : \"-1\"} }\n",
    "        }\n",
    "    }\n",
    "]\n",
    "\n",
    "kwargs = {'ClientRequestToken': 'TRANSACTION2'}\n",
    "\n",
    "response = transact_write_items_db(transaction_items=transaction_items, **kwargs)\n",
    "print(response)"
   ]
  },
  {
   "cell_type": "markdown",
   "metadata": {},
   "source": [
    "<a name='9'></a>\n",
    "## 9 - Cleanup\n",
    "\n",
    "Delete the created tables from DynamoDB. Check the provided function in the next cell `delete_table_db()` and execute the next cells to delete the tables."
   ]
  },
  {
   "cell_type": "code",
   "execution_count": null,
   "metadata": {},
   "outputs": [],
   "source": [
    "def delete_table_db(table_name: str):\n",
    "        client = boto3.client(\"dynamodb\")\n",
    "        response = client.delete_table(TableName=table_name)\n",
    "        return response"
   ]
  },
  {
   "cell_type": "code",
   "execution_count": null,
   "metadata": {},
   "outputs": [],
   "source": [
    "for dynamodb_tab in [product_catalog_table, forum_table, reply_table, thread_table]:\n",
    "    response = delete_table_db(table_name=dynamodb_tab['table_name'])\n",
    "    print(response)"
   ]
  },
  {
   "cell_type": "markdown",
   "metadata": {},
   "source": [
    "Finally, you can go to the AWS Console, search for **DynamoDB**, click on Tables, and check that the tables have been deleted."
   ]
  }
 ],
 "metadata": {
  "kernelspec": {
   "display_name": "Python 3 (ipykernel)",
   "language": "python",
   "name": "python3"
  },
  "language_info": {
   "codemirror_mode": {
    "name": "ipython",
    "version": 3
   },
   "file_extension": ".py",
   "mimetype": "text/x-python",
   "name": "python",
   "nbconvert_exporter": "python",
   "pygments_lexer": "ipython3",
   "version": "3.9.12"
  },
  "vscode": {
   "interpreter": {
    "hash": "27bfa42fff3b3fb2cd63b9de6679ce262b7de0d6bf1891ea1035aa9a470e6c23"
   }
  }
 },
 "nbformat": 4,
 "nbformat_minor": 4
}
