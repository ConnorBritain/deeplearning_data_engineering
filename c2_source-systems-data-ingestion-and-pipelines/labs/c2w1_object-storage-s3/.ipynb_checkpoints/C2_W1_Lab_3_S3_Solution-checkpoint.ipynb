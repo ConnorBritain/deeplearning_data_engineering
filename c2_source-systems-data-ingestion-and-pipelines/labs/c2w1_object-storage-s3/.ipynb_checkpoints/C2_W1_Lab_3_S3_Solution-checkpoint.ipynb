{
 "cells": [
  {
   "cell_type": "markdown",
   "metadata": {},
   "source": [
    "# Interacting With Amazon S3 Object Storage"
   ]
  },
  {
   "cell_type": "markdown",
   "metadata": {},
   "source": [
    "In this lab, you'll work with AWS Object Storage and Amazon S3. You will create an S3 bucket, query data from the bucket, and work with object versioning in S3. You will load into the S3 bucket structured data from a CSV file, semi-structured data from a JSON file, and unstructured data from an image file. You will also interact with the S3 bucket through the AWS management console and programmatically using `boto3` (the AWS Software Development Kit (SDK) for Python). \n",
    "\n",
    "**Note**: The lab contains links to external resources. You can always skim through these resources during the lab session, but you're not expected to open and read each link during the lab session. If you'd like to deepen your understanding, you can check the linked resources after you're done with the lab."
   ]
  },
  {
   "cell_type": "markdown",
   "metadata": {},
   "source": [
    "# Table of Contents\n",
    "- [ 1 - Import Packages](#1)\n",
    "- [ 2 - Explore the Dataset](#2)\n",
    "- [ 3 - Create an S3 Bucket](#3)\n",
    "  - [ Exercise 1](#ex01)\n",
    "- [ 4 - Upload and Query Data](#4)\n",
    "  - [ 4.1 - Structured Data](#4.1)\n",
    "  - [ 4.2 - Semi-Structured Data](#4.2)\n",
    "    - [ Exercise 2](#ex02)\n",
    "    - [ Exercise 3](#ex03)\n",
    "  - [ 4.3 - Unstructured Data](#4.3)\n",
    "    - [ Exercise 4](#ex04)\n",
    "- [ 5 - Delete the Bucket](#5)"
   ]
  },
  {
   "cell_type": "markdown",
   "metadata": {},
   "source": [
    "<a name='1'></a>\n",
    "## 1 - Import Packages\n",
    "\n",
    "Let's import the packages required for this lab."
   ]
  },
  {
   "cell_type": "code",
   "execution_count": null,
   "metadata": {},
   "outputs": [],
   "source": [
    "import boto3\n",
    "import json\n",
    "\n",
    "from typing import Any, Dict"
   ]
  },
  {
   "cell_type": "markdown",
   "metadata": {},
   "source": [
    "<a name='2'></a>\n",
    "## 2 - Explore the Dataset"
   ]
  },
  {
   "cell_type": "markdown",
   "metadata": {},
   "source": [
    "In this lab, you are provided with three data files that you can find in the `data` folder. Here's the structure of the `data` folder:\n",
    "\n",
    "```bash\n",
    ".\n",
    "└── data/\n",
    "    ├── csv/\n",
    "         └── ratings_ml_training_dataset.csv\n",
    "    ├── images/\n",
    "    |    ├── v1/\n",
    "    |    |    └── AWS-Logo.png\n",
    "    |    └── v2/ \n",
    "    |    |    └── AWS-Logo.png\n",
    "    └── json/\n",
    "         └── delivery-stream-one-record.json\n",
    "```"
   ]
  },
  {
   "cell_type": "markdown",
   "metadata": {},
   "source": [
    "You can see that there are three subfolders (csv, images and json). Each subfolder contains a different data format: \n",
    "- the csv subfolder contains structured data, stored in a `.csv` file. This data consists of the training dataset that was used in the Week 4 lab of Course 1 to train the recommender system model;\n",
    "- the json subfolder contains semi-structured data stored in a `.json` file;\n",
    "- the images subfolder contains unstructured data, that consists of two versions of AWS logo.\n",
    "\n",
    "You will upload these different types of data in an S3 bucket that you will create in this lab. Here's a quick summary of AWS object storage terminology:\n",
    "- A [bucket](\n",
    "https://docs.aws.amazon.com/AmazonS3/latest/userguide/UsingBucket.html) is a container for objects stored in Amazon S3.\n",
    "- An object is a file and any metadata that describes that file. It has a unique identifier, also known as the object key.\n",
    "Object storage allows the storage of any object; you can store not only structured but also unstructured and semi-structured data. \n",
    "\n",
    "To upload your data to Amazon S3, you need first to create an S3 bucket in one of the AWS Regions. And this is what you're going to do programmatically in the next exercise. But before that, go to the AWS console and search for **S3**. You should see that there are no buckets created yet in your account."
   ]
  },
  {
   "cell_type": "markdown",
   "metadata": {},
   "source": [
    "<a name='3'></a>\n",
    "## 3 - Create an S3 Bucket"
   ]
  },
  {
   "cell_type": "markdown",
   "metadata": {},
   "source": [
    "<a name='ex01'></a>\n",
    "### Exercise 1\n",
    "\n",
    "To create an S3 bucket, you need to specify the bucket name and the region for your bucket. In this lab, the region is set to `us-east-1`. Regarding the name of the bucket, Bucket names should be globally unique to avoid collisions with buckets that other learners could be creating or working with at the same time. To ensure the uniqueness of the bucket name, you will use your Vocareum's AWS Account ID to include it in the bucket name.\n",
    "\n",
    "Go to the AWS console and click on the upper right part, where your username appears. Copy the **Account ID**. Set the variable `BUCKET_NAME` to `de-c2w1lab3-<AWS-ACCOUNT-ID>` and replace the placeholder `<AWS-ACCOUNT-ID>` with the Account ID that you copied."
   ]
  },
  {
   "cell_type": "code",
   "execution_count": null,
   "metadata": {},
   "outputs": [],
   "source": [
    "BUCKET_NAME = 'de-c2w1lab3-<AWS-ACCOUNT-ID>'\n",
    "AWS_DEFAULT_REGION = 'us-east-1'"
   ]
  },
  {
   "cell_type": "markdown",
   "metadata": {},
   "source": [
    "To programmatically create the bucket in Python using boto3, you can use the `S3` method [`create_bucket()`](https://boto3.amazonaws.com/v1/documentation/api/latest/reference/services/s3/client/create_bucket.html) which requires a Client object (as explained in the DynamoDB lab).\n",
    "\n",
    "The following function `create_s3_bucket()` consists of the steps needed to create the S3 bucket (instantiating a Client object and then calling the method `create_bucket()`). The function takes in as input the bucket name and the region."
   ]
  },
  {
   "cell_type": "code",
   "execution_count": null,
   "metadata": {},
   "outputs": [],
   "source": [
    "def create_s3_bucket(bucket_name:str , region: str):\n",
    "    \n",
    "    # Create an S3 client\n",
    "    s3_client = boto3.client('s3', region_name=region)\n",
    "\n",
    "    # Create the S3 bucket\n",
    "    try:\n",
    "        s3_client.create_bucket(Bucket=bucket_name)\n",
    "        print(f\"S3 bucket '{bucket_name}' created successfully in region '{region}'.\")\n",
    "    except Exception as e:\n",
    "        print(f\"An error occurred: {e}\")"
   ]
  },
  {
   "cell_type": "code",
   "execution_count": null,
   "metadata": {},
   "outputs": [],
   "source": [
    "create_s3_bucket(bucket_name=BUCKET_NAME, region=AWS_DEFAULT_REGION)"
   ]
  },
  {
   "cell_type": "markdown",
   "metadata": {},
   "source": [
    "You can check that the bucket has been created using the `aws cli` tool. To list the buckets created in your account, you can use the following command:\n",
    "`aws s3 ls`\n",
    "\n",
    "You can run the command in the AWS Cloud9 terminal or you can run it in this notebook but you need to add an exclamation mark `!` at the beginning of the command. This allows you to run shell commands in a code cell."
   ]
  },
  {
   "cell_type": "code",
   "execution_count": null,
   "metadata": {},
   "outputs": [],
   "source": [
    "!aws s3 ls"
   ]
  },
  {
   "cell_type": "markdown",
   "metadata": {},
   "source": [
    "To list the objects stored inside a bucket, you can use the command `aws s3 ls <your-bucket-name>`. If you now run this command, no result will be shown since the bucket is still empty."
   ]
  },
  {
   "cell_type": "code",
   "execution_count": null,
   "metadata": {},
   "outputs": [],
   "source": [
    "!aws s3 ls $BUCKET_NAME"
   ]
  },
  {
   "cell_type": "markdown",
   "metadata": {},
   "source": [
    "You can also inspect the S3 bucket in the AWS Console. Search for **S3**. You will see the bucket with the name you provided. You can check that the bucket is empty by simply clicking on it. "
   ]
  },
  {
   "cell_type": "markdown",
   "metadata": {},
   "source": [
    "<a name='4'></a>\n",
    "## 4 - Upload and Query Data"
   ]
  },
  {
   "cell_type": "markdown",
   "metadata": {},
   "source": [
    "<a name='4.1'></a>\n",
    "### 4.1 - Structured Data\n",
    "\n",
    "In this section of the lab, you will upload structured data to the S3 bucket and then query it. \n",
    "\n",
    "**Upload the CSV file**\n",
    "\n",
    "Check first the file `data/csv/ratings_ml_training_dataset.csv`. Each row in this dataset consists of the details of a product that was purchased by a given user. The row also contains the user details and what ratings they provided to that product (the same dataset was used in the Week 4 lab of Course 1 to train the recommender system). Here's the structure of this table:\n",
    "\n",
    "![schema_after_ETL](images/schema_after_ETL.png \"Ratings dataset\")\n",
    "\n",
    "To programmatically upload this CSV file to the bucket, you can use the S3 method [upload_file()](https://boto3.amazonaws.com/v1/documentation/api/latest/reference/services/s3/client/upload_file.html). This method expects three arguments: the path of the source file that you want to upload (Filename), the name of the bucket to upload to (Bucket) and the object key or name (Key). The last argument specifies how you want to label the uploaded object or file within the bucket, this name should uniquely identify the uploaded object.\n",
    "\n",
    "The following function `upload_file_to_s3()` consists of the steps needed to upload the file to the S3 bucket (instantiating a Client object and then calling the method `upload_file()`). The function takes in as input the path to the local file to upload, the bucket name, and the object key."
   ]
  },
  {
   "cell_type": "code",
   "execution_count": null,
   "metadata": {},
   "outputs": [],
   "source": [
    "def upload_file_to_s3(local_file_path: str, bucket_name: str, object_key: str) -> None:\n",
    "    \"\"\"Uploads a local file to S3 using boto3\n",
    "\n",
    "    Args:\n",
    "        local_file_path (str): Local file path\n",
    "        BUCKET_NAME (str): Bucket name\n",
    "        object_key (str): the key name, which should uniquely identifies the uploaded object in the bucket\n",
    "    \"\"\"\n",
    "    # Create an S3 client\n",
    "    s3_client = boto3.client('s3')\n",
    "\n",
    "    # Upload the file to S3\n",
    "    try:\n",
    "        s3_client.upload_file(local_file_path, bucket_name, object_key)\n",
    "        print(f\"File {local_file_path} uploaded to s3://{bucket_name}/{object_key} successfully.\")\n",
    "    except Exception as e:\n",
    "        print(f\"Error uploading file to S3: {e}\")"
   ]
  },
  {
   "cell_type": "code",
   "execution_count": null,
   "metadata": {},
   "outputs": [],
   "source": [
    "# Define the local file path, and object key\n",
    "local_file_path = 'data/csv/ratings_ml_training_dataset.csv'\n",
    "object_key = 'csv/ratings_ml_training_dataset.csv'\n",
    "\n",
    "# Upload the file to S3\n",
    "upload_file_to_s3(local_file_path, BUCKET_NAME, object_key)"
   ]
  },
  {
   "cell_type": "markdown",
   "metadata": {},
   "source": [
    "You can verify that the file is in the bucket either by checking the content through the AWS console or programmatically also using `boto3` or even the `aws cli`. Go to the AWS console and check that there's a new folder in your bucket that contains the csv file you just uploaded. \n",
    "\n",
    "*Note*: remember from the lecture that object storage has a flat structure. When you use the delimiter `/` in the object name or key, like in this example: `object_key = 'csv/ratings_ml_training_dataset.csv'`, you're including a key name prefix that is used by S3 to group objects inside the bucket. The console uses the terminology `folder` because this grouping of objects can be analogous to a folder in a regular file system. You can learn more about object keys [here](https://docs.aws.amazon.com/AmazonS3/latest/userguide/object-keys.html). \n",
    "\n",
    "If you run the next command either in the AWS Cloud9, Jupyter terminal, or the Jupyter notebook cell, you can also check that the file you uploaded is there. Remember that if you run it in a terminal, you have to omit the exclamation mark at the beginning."
   ]
  },
  {
   "cell_type": "code",
   "execution_count": null,
   "metadata": {},
   "outputs": [],
   "source": [
    "!aws s3 ls $BUCKET_NAME/csv/"
   ]
  },
  {
   "cell_type": "markdown",
   "metadata": {},
   "source": [
    "**Query the Data**\n",
    "\n",
    "Now that the file has been uploaded, let's read its content. You can either download the file again to your local file system and open it, or read its content directly from S3 using the `S3` [select_object_content()](https://boto3.amazonaws.com/v1/documentation/api/latest/reference/services/s3/client/select_object_content.html) method. This method expects two arguments the bucket name and the object key that you want to select from the bucket. You are provided with the following function that calls this method."
   ]
  },
  {
   "cell_type": "code",
   "execution_count": null,
   "metadata": {},
   "outputs": [],
   "source": [
    "def s3_select_object_content(bucket_name: str, object_key: str, **kwargs) -> Dict[Any, Any]:\n",
    "    \"\"\"Uses the s3 select utility to get the content of a file.\n",
    "\n",
    "    Args:\n",
    "        bucket_name (str): Bucket name\n",
    "        object_key (str): Object key (name)\n",
    "\n",
    "    Returns:\n",
    "        Dict[Any, Any]: Response from S3 select\n",
    "    \"\"\"\n",
    "    \n",
    "    s3_client = boto3.client('s3')\n",
    "\n",
    "    response = s3_client.select_object_content(\n",
    "        Bucket=bucket_name,\n",
    "        Key=object_key,\n",
    "        **kwargs\n",
    "    )\n",
    "    \n",
    "    return response"
   ]
  },
  {
   "cell_type": "markdown",
   "metadata": {},
   "source": [
    "When using the `select_object_content()` method, you can filter the returned output by passing a SQL expression. In this way, instead of returning all rows of the CSV file, you can specify for the method which rows you want in the returned output based on the SQL expression. \n",
    "\n",
    "In the next cell, you are given an example of how to do that, where only the rows that correspond to `Trains` are returned (the column `productLine` takes `Trains` as value). You can modify the query statement to get more rows or a different result. Execute the following two cells to get the data and see the result. To understand the details of the keyword arguments provided in the cell, you can check the S3 Select [documentation](https://boto3.amazonaws.com/v1/documentation/api/latest/reference/services/s3/client/select_object_content.html) and this [example](https://aws.amazon.com/blogs/storage/querying-data-without-servers-or-databases-using-amazon-s3-select/)."
   ]
  },
  {
   "cell_type": "code",
   "execution_count": null,
   "metadata": {},
   "outputs": [],
   "source": [
    "file_s3_key = 'csv/ratings_ml_training_dataset.csv'\n",
    "kwargs = {'ExpressionType': 'SQL',\n",
    "          'Expression': \"\"\"SELECT * FROM s3object AS s WHERE s.\\\"productline\\\" = 'Trains' LIMIT 20\"\"\",\n",
    "          'InputSerialization': {'CSV': {\"FileHeaderInfo\": \"Use\"}, 'CompressionType': 'NONE'},\n",
    "          'OutputSerialization': {'CSV': {}},\n",
    "}\n",
    "\n",
    "response = s3_select_object_content(bucket_name=BUCKET_NAME, object_key=file_s3_key, **kwargs)"
   ]
  },
  {
   "cell_type": "markdown",
   "metadata": {},
   "source": [
    "Execute the following cell to read the content of the file from the response's payload (i.e., the array of results, you can check the structure of the response in the [documentation](https://boto3.amazonaws.com/v1/documentation/api/latest/reference/services/s3/client/select_object_content.html), by scrolling down to sections: \"Response Syntax\" and \"Response Structure\")."
   ]
  },
  {
   "cell_type": "code",
   "execution_count": null,
   "metadata": {},
   "outputs": [],
   "source": [
    "for event in response['Payload']:\n",
    "    if 'Records' in event:\n",
    "        records = event['Records']['Payload'].decode('utf-8')\n",
    "        print(records)\n",
    "    elif 'Stats' in event:\n",
    "        statsDetails = event['Stats']['Details']\n",
    "        print(\"Stats details bytesScanned: \")\n",
    "        print(statsDetails['BytesScanned'])\n",
    "        print(\"Stats details bytesProcessed: \")\n",
    "        print(statsDetails['BytesProcessed'])\n",
    "        print(\"Stats details bytesReturned: \")\n",
    "        print(statsDetails['BytesReturned'])"
   ]
  },
  {
   "cell_type": "markdown",
   "metadata": {},
   "source": [
    "<a name='4.2'></a>\n",
    "### 4.2 - Semi-Structured Data\n",
    "\n",
    "Now, you will work with semi-structured data, in particular with a JSON file. You will upload the file located at `data/json/delivery-stream-one-record.json`. This file consists of the data obtained from the transformations done to the streaming data in the Week 4 lab of Course 1. You can open it to check its structure. "
   ]
  },
  {
   "cell_type": "markdown",
   "metadata": {},
   "source": [
    "<a name='ex02'></a>\n",
    "### Exercise 2\n",
    "\n",
    "Complete the code below to upload the file located at `data/json/delivery-stream-one-record.json` to the S3 bucket using the same function used for the CSV file above. But now in the S3 bucket, point to a new folder `json`, giving the same name to the file (i.e., the object key should start with \"json\")"
   ]
  },
  {
   "cell_type": "code",
   "execution_count": null,
   "metadata": {},
   "outputs": [],
   "source": [
    "### START CODE HERE ### (~ 3 lines of code)\n",
    "# Define the local file path, and S3 key\n",
    "local_file_path_json = 'data/json/delivery-stream-one-record.json' # @REPLACE EQUALS None\n",
    "object_key_json = 'json/delivery-stream-one-record.json' # @REPLACE EQUALS None\n",
    "\n",
    "# Upload the file to S3\n",
    "upload_file_to_s3(local_file_path_json, BUCKET_NAME, object_key_json) # @REPLACE upload_file_to_s3(None, None, None)\n",
    "### END CODE HERE ###"
   ]
  },
  {
   "cell_type": "markdown",
   "metadata": {},
   "source": [
    "<a name='ex03'></a>\n",
    "### Exercise 3\n",
    "\n",
    "Verify again that the file has been uploaded using the `aws cli` tool. Complete the command pointing to the corresponding folder where the JSON file has been uploaded."
   ]
  },
  {
   "cell_type": "code",
   "execution_count": null,
   "metadata": {},
   "outputs": [],
   "source": [
    "### START CODE HERE ### (~ 1 line of code)\n",
    "!aws s3 ls $BUCKET_NAME/json/ # @REPLACE !aws None None None/None/\n",
    "### END CODE HERE ###"
   ]
  },
  {
   "cell_type": "markdown",
   "metadata": {},
   "source": [
    "You can also visually check in the AWS console that the JSON file has been created in the bucket. Now, instead of querying the JSON file, you will download it using the `S3` [download_file()](https://boto3.amazonaws.com/v1/documentation/api/latest/reference/services/s3/client/download_file.html) method, which is called in the following provided function."
   ]
  },
  {
   "cell_type": "code",
   "execution_count": null,
   "metadata": {},
   "outputs": [],
   "source": [
    "def download_object_from_s3(bucket_name: str, object_key: str, local_file_path: str) -> None:\n",
    "    \"\"\"Downloads object from S3 using boto3\n",
    "\n",
    "    Args:\n",
    "        bucket_name (str): Bucket name\n",
    "        object_key (str): Object key in S3.\n",
    "        local_file_path (str): Path in the local file system to put the downloaded object.\n",
    "    \"\"\"\n",
    "    # Create an S3 client\n",
    "    s3_client = boto3.client('s3')\n",
    "    \n",
    "    try:\n",
    "        # Download the file to a local directory\n",
    "        s3_client.download_file(bucket_name, object_key, local_file_path)\n",
    "    except Exception as e:\n",
    "        print(f\"Error downloading or printing JSON file: {e}\")\n"
   ]
  },
  {
   "cell_type": "markdown",
   "metadata": {},
   "source": [
    "Run the following cell to create a `downloads` folder in your local file system, and then, call the function `download_object_from_s3` to download the JSON file from your S3 bucket."
   ]
  },
  {
   "cell_type": "code",
   "execution_count": null,
   "metadata": {},
   "outputs": [],
   "source": [
    "!mkdir 'downloads'\n",
    "local_file_path = './downloads/delivery-stream-one-record.json'\n",
    "\n",
    "download_object_from_s3(bucket_name=BUCKET_NAME, object_key=object_key_json, local_file_path=local_file_path)"
   ]
  },
  {
   "cell_type": "markdown",
   "metadata": {},
   "source": [
    "Once the file has been downloaded, you can read its content from the local file system:"
   ]
  },
  {
   "cell_type": "code",
   "execution_count": null,
   "metadata": {},
   "outputs": [],
   "source": [
    "with open(local_file_path, 'r') as file:    \n",
    "    json_content = json.loads(file.read())\n",
    "    print(json_content)"
   ]
  },
  {
   "cell_type": "markdown",
   "metadata": {},
   "source": [
    "Now you can work with this particular object if you need to make any transformation."
   ]
  },
  {
   "cell_type": "markdown",
   "metadata": {},
   "source": [
    "<a name='4.3'></a>\n",
    "### 4.3 - Unstructured Data\n",
    "\n",
    "Finally, you will work with unstructured data. You will upload an image to the bucket and, this time, download it from a browser (to show you the various ways you can download objects from an S3 bucket). By default, an S3 bucket and its objects are private. To be able to download S3 objects from a browser, you will have to make some modifications to the bucket to make some of its objects available for public reading. \n",
    "\n",
    "First, you need to configure the bucket to accept public policies and public Access Control Lists (ACLs). To do so, you will use the method `S3 put_public_access_block`. To understand what this method expects as arguments, check the following [documentation](https://boto3.amazonaws.com/v1/documentation/api/latest/reference/services/s3/client/put_public_access_block.html).\n",
    "\n",
    "Run the following two cells to change the access configuration of the S3 bucket."
   ]
  },
  {
   "cell_type": "code",
   "execution_count": null,
   "metadata": {},
   "outputs": [],
   "source": [
    "def s3_public_access_setup(bucket_name: str, public_access_block_configuration: Dict[str, Any]) -> None:\n",
    "    \"\"\"Sets public access configuration for S3 bucket\n",
    "\n",
    "    Args:\n",
    "        bucket_name (str): Bucket name\n",
    "        public_access_block_configuration (Dict[str, Any]): Configuration for public access\n",
    "    \"\"\"\n",
    "    \n",
    "    s3_client = boto3.client('s3')\n",
    "    \n",
    "    # Update the bucket's public access settings\n",
    "    s3_client.put_public_access_block(\n",
    "        Bucket=bucket_name,\n",
    "        PublicAccessBlockConfiguration=public_access_block_configuration\n",
    "    )"
   ]
  },
  {
   "cell_type": "code",
   "execution_count": null,
   "metadata": {},
   "outputs": [],
   "source": [
    "# Define the public access settings  \n",
    "public_access_configuration = {\n",
    "    'BlockPublicAcls': False,\n",
    "    'IgnorePublicAcls': False,\n",
    "    'BlockPublicPolicy': False,\n",
    "    'RestrictPublicBuckets': False\n",
    "}\n",
    "\n",
    "s3_public_access_setup(bucket_name=BUCKET_NAME, \n",
    "                       public_access_block_configuration=public_access_configuration)"
   ]
  },
  {
   "cell_type": "markdown",
   "metadata": {},
   "source": [
    "You just modified the bucket so that it now accepts public access rules to its objects. You'll now attach a policy to the bucket to allow anyone on the internet to have reading access to the objects whose key starts with `images/`. (\"A policy is an object in AWS that, when associated with an identity or resource, defines their permissions\", [reference](https://docs.aws.amazon.com/IAM/latest/UserGuide/introduction_access-management.html). You will learn more about policies in the next lesson or you can check the documentation [here](https://docs.aws.amazon.com/IAM/latest/UserGuide/access_policies.html)).\n",
    "\n",
    "To attach the mentioned policy to the S3 bucket, you'll use the `S3` [put_bucket_policy()](https://boto3.amazonaws.com/v1/documentation/api/latest/reference/services/s3/client/put_bucket_policy.html) method, define the details of the policy and pass in the policy to `S3 put_bucket_policy()`. Run the following three cells to attach the appropriate policy to the S3 bucket."
   ]
  },
  {
   "cell_type": "code",
   "execution_count": null,
   "metadata": {},
   "outputs": [],
   "source": [
    "def s3_put_bucket_policy(bucket_name: str, policy: Dict[str, Any]) -> None:\n",
    "    \"\"\"Allows to put bucket policies\n",
    "\n",
    "    Args:\n",
    "        bucket_name (str): Bucket name\n",
    "        policy (Dict[str, Any]): Bucket policy\n",
    "    \"\"\"\n",
    "    \n",
    "    s3_client = boto3.client('s3')\n",
    "    response = s3_client.put_bucket_policy(Bucket=bucket_name, Policy=json.dumps(policy))\n",
    "    return response"
   ]
  },
  {
   "cell_type": "code",
   "execution_count": null,
   "metadata": {},
   "outputs": [],
   "source": [
    "policy = { \n",
    "    \"Version\": \"2012-10-17\", \n",
    "    \"Statement\": [\n",
    "        {\n",
    "            \"Effect\": \"Allow\",\n",
    "            \"Principal\": \"*\",\n",
    "            \"Action\": \"s3:GetObject\",\n",
    "            \"Resource\": f\"arn:aws:s3:::{BUCKET_NAME}/images/*\"\n",
    "        }\n",
    "    ]\n",
    "}\n"
   ]
  },
  {
   "cell_type": "markdown",
   "metadata": {},
   "source": [
    "This policy allows anyone (`\"Principal\": \"*\"`) to use the method `S3 GetObject` on `{BUCKET_NAME}/images/`, i.e., to retrieve objects stored in your s3 bucket and whose key/name starts with `images/`. You can learn more about such policy [here](https://docs.aws.amazon.com/IAM/latest/UserGuide/access_policies.html#access_policies-json)."
   ]
  },
  {
   "cell_type": "code",
   "execution_count": null,
   "metadata": {},
   "outputs": [],
   "source": [
    "response = s3_put_bucket_policy(bucket_name=BUCKET_NAME, policy=policy) \n",
    "print(response)"
   ]
  },
  {
   "cell_type": "markdown",
   "metadata": {},
   "source": [
    "<a name='ex04'></a>\n",
    "### Exercise 4\n",
    "\n",
    "Now, let's upload the image located at `data/images/v1/`."
   ]
  },
  {
   "cell_type": "code",
   "execution_count": null,
   "metadata": {},
   "outputs": [],
   "source": [
    "local_file_path_image_v1 = 'data/images/v1/AWS-Logo.png'\n",
    "object_key_image = 'images/AWS-Logo.png'\n",
    "\n",
    "upload_file_to_s3(local_file_path_image_v1, BUCKET_NAME, object_key_image)"
   ]
  },
  {
   "cell_type": "markdown",
   "metadata": {},
   "source": [
    "Check that the image has been uploaded. Complete the command below. Remember to point to the correct folder in S3 to list only the file you just uploaded."
   ]
  },
  {
   "cell_type": "code",
   "execution_count": null,
   "metadata": {},
   "outputs": [],
   "source": [
    "### START CODE HERE ### (~ 1 line of code)\n",
    "!aws s3 ls $BUCKET_NAME/images/ # @REPLACE !aws None None None/None/\n",
    "### END CODE HERE ###"
   ]
  },
  {
   "cell_type": "markdown",
   "metadata": {},
   "source": [
    "Go to the AWS console, and search for **S3**. In your bucket, click on images and click on the name of the image you just uploaded. You can see an option called `Object URL`. If you copy it and paste it into a new browser's tab, you should be able to download the file.\n",
    "\n",
    "<img src=\"images/object_url.png\" width=\"500\">"
   ]
  },
  {
   "cell_type": "markdown",
   "metadata": {},
   "source": [
    "Let's see how the Bucket Versioning works. You need first to enable this feature in your bucket by calling the method `S3` [put_bucket_versioning()](https://boto3.amazonaws.com/v1/documentation/api/latest/reference/services/s3/client/put_bucket_versioning.html) and switching on versioning."
   ]
  },
  {
   "cell_type": "code",
   "execution_count": null,
   "metadata": {},
   "outputs": [],
   "source": [
    "def configure_bucket_versioning(bucket_name: str, versioning_config: Dict[str, str]) -> Dict[Any, Any]:\n",
    "    \n",
    "    s3_client = boto3.client('s3')\n",
    "\n",
    "    # Enable bucket versioning\n",
    "    response = s3_client.put_bucket_versioning(\n",
    "        Bucket=bucket_name,\n",
    "        VersioningConfiguration=versioning_config\n",
    "    )\n",
    "\n",
    "    return response\n"
   ]
  },
  {
   "cell_type": "code",
   "execution_count": null,
   "metadata": {},
   "outputs": [],
   "source": [
    "versioning_config = {'Status': 'Enabled'}\n",
    "\n",
    "response = configure_bucket_versioning(bucket_name=BUCKET_NAME, \n",
    "                                       versioning_config=versioning_config)\n",
    "print(response)"
   ]
  },
  {
   "cell_type": "markdown",
   "metadata": {},
   "source": [
    "Let's now upload the second version of the AWS logo located at `data/images/v2/AWS-Logo.png` and use the same object key or name you used for the previous image:"
   ]
  },
  {
   "cell_type": "code",
   "execution_count": null,
   "metadata": {},
   "outputs": [],
   "source": [
    "local_file_path_image_v2 = 'data/images/v2/AWS-Logo.png'\n",
    "object_key_image = 'images/AWS-Logo.png'\n",
    "\n",
    "upload_file_to_s3(local_file_path_image_v2, BUCKET_NAME, object_key_image)"
   ]
  },
  {
   "cell_type": "markdown",
   "metadata": {},
   "source": [
    "So far, you have listed the content of the bucket using the `aws cli` tool. You can also list the content in Python using `S3` [list_objects_v2()](https://boto3.amazonaws.com/v1/documentation/api/latest/reference/services/s3/client/list_objects_v2.html)."
   ]
  },
  {
   "cell_type": "code",
   "execution_count": null,
   "metadata": {},
   "outputs": [],
   "source": [
    "def list_objects_in_folder(bucket_name: str, prefix_key: str):\n",
    "    # Create an S3 client\n",
    "    s3_client = boto3.client('s3')\n",
    "\n",
    "    # Use list_objects_v2 to list objects in the specified folder\n",
    "    response = s3_client.list_objects_v2(\n",
    "        Bucket=bucket_name,\n",
    "        Prefix=prefix_key\n",
    "    )\n",
    "\n",
    "    # Check if objects were found\n",
    "    if 'Contents' in response:\n",
    "        # Print each object's key\n",
    "        print(\"Objects with a key that starts with '{}':\".format(prefix_key))\n",
    "        for obj in response['Contents']:\n",
    "            print(obj['Key'])\n",
    "    else:\n",
    "        print(\"No objects found in folder '{}'.\".format(prefix_key))"
   ]
  },
  {
   "cell_type": "code",
   "execution_count": null,
   "metadata": {},
   "outputs": [],
   "source": [
    "list_objects_in_folder(bucket_name=BUCKET_NAME, prefix_key='images')"
   ]
  },
  {
   "cell_type": "markdown",
   "metadata": {},
   "source": [
    "This method only shows you the files whose key starts with a particular prefix, but you cannot see anything about their versions. For that, let's use the [`S3 list_object_versions()`](https://boto3.amazonaws.com/v1/documentation/api/latest/reference/services/s3/client/list_object_versions.html) method instead."
   ]
  },
  {
   "cell_type": "code",
   "execution_count": null,
   "metadata": {},
   "outputs": [],
   "source": [
    "def list_object_versions(bucket_name: str, prefix_key: str) -> None:\n",
    "    # Create an S3 client\n",
    "    s3_client = boto3.client('s3')\n",
    "\n",
    "    # List object versions\n",
    "    response = s3_client.list_object_versions(Bucket=bucket_name, Prefix=prefix_key)\n",
    "\n",
    "    # Process the response to get object versions\n",
    "    for version in response.get('Versions', []):\n",
    "        print(\"Object Key:\", version['Key'])\n",
    "        print(\"Object Version Id:\", version['VersionId'])\n",
    "        print(\"Is Latest:\", version['IsLatest'])\n",
    "        print(\"Last Modified:\", version['LastModified'])\n",
    "        print()\n",
    "\n",
    "list_object_versions(bucket_name=BUCKET_NAME, prefix_key='images/')"
   ]
  },
  {
   "cell_type": "markdown",
   "metadata": {},
   "source": [
    "Now, go back to the S3 bucket in the AWS console and search for the file you just uploaded. Get its Object URL to download the new version of the file."
   ]
  },
  {
   "cell_type": "markdown",
   "metadata": {},
   "source": [
    "<a name='4'></a>\n",
    "## 4 - Delete the Bucket\n",
    "\n",
    "To delete the bucket, you need to make sure it is empty before the deletion process. And for that, there are two methods that you can use: `S3` [delete_object()](https://boto3.amazonaws.com/v1/documentation/api/latest/reference/services/s3/client/delete_object.html) and `S3` [delete_bucket()`](https://boto3.amazonaws.com/v1/documentation/api/latest/reference/services/s3/client/delete_bucket.html).\n",
    "\n",
    "In the next cell, you are provided with a function that makes use of `S3 delete_object()` and `S3 delete_bucket()`. This function takes as an input the boolean parameter`delete_objects`; this boolean parameter is used to indicate if the bucket is empty or not. If the bucket contains objects, then the function first deletes the objects and then the bucket. Otherwise, the function directly deletes the bucket. Note that you need to delete all object versions. The deletion of versions is necessary only if you have enabled Bucket Versioning. Note that the function also removes delete markers. These are placeholders that are created after you delete objects in a versioning-enabled bucket. You can learn more about them [here](https://www.learnaws.org/2022/10/04/aws-s3-delete-marker/#what-is-an-aws-s3-delete-marker).\n",
    "\n",
    "**Note:** It is important to take into account that when you are working with S3 buckets in real life and production environments, you SHOULD NOT delete them or delete the objects within them unless you are completely sure about what you are doing. Make sure that the bucket/objects are not used anymore by any upstream or downstream process. This is something you should do with caution and after talking with bucket/object owners, stakeholders, and other process owners who may depend on the information hosted in that bucket."
   ]
  },
  {
   "cell_type": "code",
   "execution_count": null,
   "metadata": {},
   "outputs": [],
   "source": [
    "def s3_delete_bucket(bucket_name: str, delete_objects: bool) -> Dict[Any, Any]:\n",
    "    s3_client = boto3.client('s3')\n",
    "    \n",
    "    if delete_objects:\n",
    "        # List all versions of all objects in the bucket\n",
    "        response = s3_client.list_object_versions(Bucket=bucket_name)\n",
    "        \n",
    "        # Delete all object versions\n",
    "        for version in response.get('Versions', []):\n",
    "            key = version['Key']\n",
    "            version_id = version['VersionId']\n",
    "            s3_client.delete_object(Bucket=bucket_name, Key=key, VersionId=version_id)\n",
    "        \n",
    "        # Delete all delete markers\n",
    "        for delete_marker in response.get('DeleteMarkers', []):\n",
    "            key = delete_marker['Key']\n",
    "            version_id = delete_marker['VersionId']\n",
    "            s3_client.delete_object(Bucket=bucket_name, Key=key, VersionId=version_id)        \n",
    "    \n",
    "    # Delete the bucket\n",
    "    response = s3_client.delete_bucket(\n",
    "        Bucket=bucket_name\n",
    "    )\n",
    "\n",
    "    return response\n",
    "\n",
    "response = s3_delete_bucket(bucket_name=BUCKET_NAME, delete_objects=True)\n",
    "print(response)"
   ]
  },
  {
   "cell_type": "markdown",
   "metadata": {},
   "source": [
    "Finally, check that the bucket no longer exists."
   ]
  },
  {
   "cell_type": "code",
   "execution_count": null,
   "metadata": {},
   "outputs": [],
   "source": [
    "!aws s3 ls"
   ]
  },
  {
   "cell_type": "markdown",
   "metadata": {},
   "source": [
    "Well done! You learned how to work with Amazon S3, such as how to create S3 buckets, upload files to S3 buckets, and understand some of its features like versioning."
   ]
  },
  {
   "cell_type": "code",
   "execution_count": null,
   "metadata": {},
   "outputs": [],
   "source": []
  }
 ],
 "metadata": {
  "kernelspec": {
   "display_name": "Python 3 (ipykernel)",
   "language": "python",
   "name": "python3"
  },
  "language_info": {
   "codemirror_mode": {
    "name": "ipython",
    "version": 3
   },
   "file_extension": ".py",
   "mimetype": "text/x-python",
   "name": "python",
   "nbconvert_exporter": "python",
   "pygments_lexer": "ipython3",
   "version": "3.9.12"
  },
  "vscode": {
   "interpreter": {
    "hash": "0f7c385fa1e05902489312e0f26958bd15563da08ffbc61abb00afd1f64e2ab3"
   }
  }
 },
 "nbformat": 4,
 "nbformat_minor": 4
}
