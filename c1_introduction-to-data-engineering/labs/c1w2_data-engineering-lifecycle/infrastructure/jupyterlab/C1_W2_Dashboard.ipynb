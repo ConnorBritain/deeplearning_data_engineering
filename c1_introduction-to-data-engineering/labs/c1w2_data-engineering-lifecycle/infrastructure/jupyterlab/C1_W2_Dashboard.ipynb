{
 "cells": [
  {
   "cell_type": "markdown",
   "metadata": {},
   "source": [
    "# Serving for Data Analytics"
   ]
  },
  {
   "cell_type": "markdown",
   "metadata": {},
   "source": [
    "In the first part of the lab, you ingested data from a source database and transformed it using AWS Glue. In this notebook, you will serve the transformed data for an analytics example. You will perform data retrieval with Amazon Athena using simple SQL queries and then use the query output to build an interactive dashboard that explores sales data by country and product line."
   ]
  },
  {
   "cell_type": "markdown",
   "metadata": {},
   "source": [
    "Import all of the required packages."
   ]
  },
  {
   "cell_type": "code",
   "execution_count": null,
   "metadata": {},
   "outputs": [],
   "source": [
    "import pandas as pd\n",
    "import awswrangler as wr\n",
    "import seaborn as sns\n",
    "import ipywidgets as widgets\n",
    "from IPython.display import display\n",
    "import warnings"
   ]
  },
  {
   "cell_type": "markdown",
   "metadata": {},
   "source": [
    "After you have executed the AWS Glue job, a new database named `de-c1w2-analytics-db` was created and stored in the S3 instance. This database contains four tables with the following schema:\n",
    "\n",
    "![image alt ><](./images/schema_after_ETL.png)\n",
    "\n",
    "Each row in the `fact_orders` table corresponds to a sale order and contains related measurements such as quantity ordered and price. The dimension tables provide more context and details for each sale order such as customers' information, customers' locations, and order details. Your data is now ready to be served for analytics. To query this data from S3, you will use Amazon Athena. Let's check the data stored in the `dim_products` table:"
   ]
  },
  {
   "cell_type": "code",
   "execution_count": null,
   "metadata": {},
   "outputs": [],
   "source": [
    "GLUE_DATABASE = \"de-c1w2-analytics-db\"\n",
    "\n",
    "products_df = wr.athena.read_sql_query(\n",
    "    \"\"\"\n",
    "    SELECT * FROM dim_products\n",
    "    \"\"\",\n",
    "    database=GLUE_DATABASE,\n",
    ")\n",
    "    \n",
    "products_df.head()"
   ]
  },
  {
   "cell_type": "markdown",
   "metadata": {},
   "source": [
    "You can get some data insights by aggregating some sale measurements from the fact table. In the following cell, you will compute the total sales amount spent by each country and display the top 10 records:"
   ]
  },
  {
   "cell_type": "code",
   "execution_count": null,
   "metadata": {},
   "outputs": [],
   "source": [
    "# Retrieve total sales per country by joining the 'fact_orders' table with 'dim_locations' on postal code.\n",
    "# The result is grouped by the 'country' column, and the total sales for each country is calculated as the sum of order amounts.\n",
    "# The query is executed using Athena through the 'wr.athena.read_sql_query' method, and the top 10 countries with the highest total sales are displayed.\n",
    "product_sales_by_country_df = wr.athena.read_sql_query(\n",
    "    \"\"\"\n",
    "    SELECT\n",
    "        dim_locations.country,\n",
    "        SUM(fact_orders.orderAmount) AS total_sales\n",
    "    FROM\n",
    "        fact_orders\n",
    "    JOIN\n",
    "        dim_locations ON fact_orders.postalCode = dim_locations.postalCode\n",
    "    GROUP BY 1\n",
    "    \"\"\",\n",
    "    database=GLUE_DATABASE,\n",
    ")\n",
    "    \n",
    "product_sales_by_country_df.sort_values(\"total_sales\", ascending=False).head(10)"
   ]
  },
  {
   "cell_type": "markdown",
   "metadata": {},
   "source": [
    "Now you will combine data from three tables: `fact_orders`, `dim_products`, and `dim_locations`. The query will select the order date, product line, product name, country, and total sales amount, grouping the results by order date, product line, product name, and country:"
   ]
  },
  {
   "cell_type": "code",
   "execution_count": null,
   "metadata": {},
   "outputs": [],
   "source": [
    "# Retrieve detailed sales information by joining 'fact_orders' with 'dim_products' and 'dim_locations'.\n",
    "# The query selects order date, product line, product name, country, and calculates the total sales (sum of order amounts).\n",
    "# The result is grouped by order date, product line, product name, and country.\n",
    "# The query is executed using Athena through the 'wr.athena.read_sql_query' method, and the resulting DataFrame is displayed with the first few rows using 'head()'.\n",
    "product_sales_df = wr.athena.read_sql_query(\n",
    "    \"\"\"\n",
    "    SELECT\n",
    "        fact_orders.orderDate,\n",
    "        dim_products.productLine,\n",
    "        dim_products.productName,\n",
    "        dim_locations.country,\n",
    "        SUM(fact_orders.orderAmount) AS total_sales\n",
    "    FROM\n",
    "        fact_orders\n",
    "    JOIN\n",
    "        dim_products ON fact_orders.productCode = dim_products.productCode\n",
    "    JOIN\n",
    "        dim_locations ON fact_orders.postalCode = dim_locations.postalCode\n",
    "    GROUP BY 1, 2, 3, 4\n",
    "    \"\"\",\n",
    "    database=GLUE_DATABASE,\n",
    ")\n",
    "    \n",
    "product_sales_df.head()"
   ]
  },
  {
   "cell_type": "markdown",
   "metadata": {},
   "source": [
    "You will now use the query results to build an interactive dashboard using dropdown widgets, where you will be able to select a country and product line, filter the results based on a particular period of sales, showing the top N popular products at the end:"
   ]
  },
  {
   "cell_type": "code",
   "execution_count": null,
   "metadata": {},
   "outputs": [],
   "source": [
    "product_sales_df['orderdate'] = pd.to_datetime(product_sales_df['orderdate'])\n",
    "\n",
    "# Ignore warnings for cleaner output\n",
    "warnings.filterwarnings('ignore')\n",
    "\n",
    "# Country Dropdown Widget\n",
    "country_widget = widgets.Dropdown(\n",
    "    options=[\"ALL\"] + sorted(list(product_sales_df.country.unique())),\n",
    "    value=\"ALL\",\n",
    "    description=\"Country\",\n",
    ")\n",
    "\n",
    "# Product Line Dropdown Widget\n",
    "productline_widget = widgets.Dropdown(\n",
    "    options=[\"ALL\"] + sorted(list(product_sales_df.productline.unique())),\n",
    "    value=\"ALL\",\n",
    "    description=\"Product Line\",\n",
    ")\n",
    "\n",
    "# Interactive Widgets for Date Range, Country, Product Line, and Top N\n",
    "@widgets.interact(\n",
    "    start_date=widgets.DatePicker(value=product_sales_df.orderdate.min(), description=\"Start Date\"),\n",
    "    end_date=widgets.DatePicker(value=product_sales_df.orderdate.max(), description=\"End Date\"),\n",
    "    country=country_widget,\n",
    "    productline=productline_widget,\n",
    "    top_n=widgets.IntSlider(value=5, min=1, max=10, step=1, description=\"Top N\"),\n",
    ")\n",
    "\n",
    "# Function to Plot Top N Sales\n",
    "def plot_top_n_sales(start_date, end_date, country, productline, top_n):\n",
    "    \n",
    "    # Filter data based on selected date range\n",
    "    filtered_df = product_sales_df[\n",
    "        (product_sales_df.orderdate >= pd.Timestamp(start_date))\n",
    "        & (product_sales_df.orderdate <= pd.Timestamp(end_date))\n",
    "    ]\n",
    "    filtered_df = filtered_df.drop('orderdate', axis=1)\n",
    "    filtered_df = filtered_df.groupby(['productline', 'productname', 'country']).sum().reset_index()\n",
    "\n",
    "    # Build title string based on selected filters\n",
    "    title_str = f\"Top {top_n} Popular \"\n",
    "    \n",
    "    if productline != \"ALL\":\n",
    "        filtered_df = filtered_df[filtered_df.productline == productline]\n",
    "        title_str += productline\n",
    "    else: \n",
    "        filtered_df = filtered_df.groupby(['productname', 'country']).sum().reset_index()\n",
    "        title_str += \"Products\"\n",
    "        \n",
    "    if country != \"ALL\":\n",
    "        filtered_df = filtered_df[filtered_df.country == country]\n",
    "        title_str += \" in \" + country\n",
    "    else:\n",
    "        filtered_df = filtered_df.groupby(['productname']).sum().reset_index()\n",
    "\n",
    "    # Plotting the bar chart\n",
    "    if not (filtered_df.empty):\n",
    "        try:\n",
    "            ax = sns.barplot(\n",
    "                x=\"total_sales\",\n",
    "                y=\"productname\",\n",
    "                data=filtered_df.sort_values(\"total_sales\", ascending=False).head(top_n)\n",
    "            )\n",
    "        \n",
    "\n",
    "            ax.set(\n",
    "                xlabel=\"Total Sales\",\n",
    "                ylabel=\"Product Name\",\n",
    "                title=title_str\n",
    "            )\n",
    "        except:\n",
    "            print(\"error\")\n",
    "    else:\n",
    "        print(f\"There were no sales of {productline} to {country} during that period\")"
   ]
  },
  {
   "cell_type": "markdown",
   "metadata": {},
   "source": [
    "Fantastic! You can now observe how effortlessly the data can be accessed after having transformed it into a form that is more appropriate for analytics.\n",
    "\n",
    "You can get back to the Vocareum tab and follow the instructions to submit the lab."
   ]
  },
  {
   "cell_type": "code",
   "execution_count": null,
   "metadata": {},
   "outputs": [],
   "source": []
  }
 ],
 "metadata": {
  "kernelspec": {
   "display_name": "Python 3 (ipykernel)",
   "language": "python",
   "name": "python3"
  },
  "language_info": {
   "codemirror_mode": {
    "name": "ipython",
    "version": 3
   },
   "file_extension": ".py",
   "mimetype": "text/x-python",
   "name": "python",
   "nbconvert_exporter": "python",
   "pygments_lexer": "ipython3",
   "version": "3.9.16"
  }
 },
 "nbformat": 4,
 "nbformat_minor": 4
}
